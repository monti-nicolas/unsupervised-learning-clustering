{
 "cells": [
  {
   "cell_type": "markdown",
   "metadata": {},
   "source": [
    "# Project: Identify Customer Segments\n",
    "\n",
    "In this project, you will apply unsupervised learning techniques to identify segments of the population that form the core customer base for a mail-order sales company in Germany. These segments can then be used to direct marketing campaigns towards audiences that will have the highest expected rate of returns. The data that you will use has been provided by our partners at Bertelsmann Arvato Analytics, and represents a real-life data science task.\n",
    "\n",
    "This notebook will help you complete this task by providing a framework within which you will perform your analysis steps. In each step of the project, you will see some text describing the subtask that you will perform, followed by one or more code cells for you to complete your work. **Feel free to add additional code and markdown cells as you go along so that you can explore everything in precise chunks.** The code cells provided in the base template will outline only the major tasks, and will usually not be enough to cover all of the minor tasks that comprise it.\n",
    "\n",
    "It should be noted that while there will be precise guidelines on how you should handle certain tasks in the project, there will also be places where an exact specification is not provided. **There will be times in the project where you will need to make and justify your own decisions on how to treat the data.** These are places where there may not be only one way to handle the data. In real-life tasks, there may be many valid ways to approach an analysis task. One of the most important things you can do is clearly document your approach so that other scientists can understand the decisions you've made.\n",
    "\n",
    "At the end of most sections, there will be a Markdown cell labeled **Discussion**. In these cells, you will report your findings for the completed section, as well as document the decisions that you made in your approach to each subtask. **Your project will be evaluated not just on the code used to complete the tasks outlined, but also your communication about your observations and conclusions at each stage.**"
   ]
  },
  {
   "cell_type": "code",
   "execution_count": 1,
   "metadata": {},
   "outputs": [
    {
     "data": {
      "text/plain": [
       "'\\nImport note: The classroom currently uses sklearn version 0.19.\\nIf you need to use an imputer, it is available in sklearn.preprocessing.Imputer,\\ninstead of sklearn.impute as in newer versions of sklearn.\\n'"
      ]
     },
     "execution_count": 1,
     "metadata": {},
     "output_type": "execute_result"
    }
   ],
   "source": [
    "# import libraries here; add more as necessary\n",
    "import numpy as np\n",
    "import pandas as pd\n",
    "import matplotlib.pyplot as plt\n",
    "import seaborn as sns\n",
    "\n",
    "from sklearn.preprocessing import StandardScaler, Imputer\n",
    "from sklearn.decomposition import PCA\n",
    "from sklearn.cluster import KMeans, MiniBatchKMeans\n",
    "\n",
    "import warnings\n",
    "warnings.filterwarnings('ignore')\n",
    "\n",
    "# magic word for producing visualizations in notebook\n",
    "%matplotlib inline\n",
    "\n",
    "'''\n",
    "Import note: The classroom currently uses sklearn version 0.19.\n",
    "If you need to use an imputer, it is available in sklearn.preprocessing.Imputer,\n",
    "instead of sklearn.impute as in newer versions of sklearn.\n",
    "'''"
   ]
  },
  {
   "cell_type": "markdown",
   "metadata": {},
   "source": [
    "### Step 0: Load the Data\n",
    "\n",
    "There are four files associated with this project (not including this one):\n",
    "\n",
    "- `Udacity_AZDIAS_Subset.csv`: Demographics data for the general population of Germany; 891211 persons (rows) x 85 features (columns).\n",
    "- `Udacity_CUSTOMERS_Subset.csv`: Demographics data for customers of a mail-order company; 191652 persons (rows) x 85 features (columns).\n",
    "- `Data_Dictionary.md`: Detailed information file about the features in the provided datasets.\n",
    "- `AZDIAS_Feature_Summary.csv`: Summary of feature attributes for demographics data; 85 features (rows) x 4 columns\n",
    "\n",
    "Each row of the demographics files represents a single person, but also includes information outside of individuals, including information about their household, building, and neighborhood. You will use this information to cluster the general population into groups with similar demographic properties. Then, you will see how the people in the customers dataset fit into those created clusters. The hope here is that certain clusters are over-represented in the customers data, as compared to the general population; those over-represented clusters will be assumed to be part of the core userbase. This information can then be used for further applications, such as targeting for a marketing campaign.\n",
    "\n",
    "To start off with, load in the demographics data for the general population into a pandas DataFrame, and do the same for the feature attributes summary. Note for all of the `.csv` data files in this project: they're semicolon (`;`) delimited, so you'll need an additional argument in your [`read_csv()`](https://pandas.pydata.org/pandas-docs/stable/generated/pandas.read_csv.html) call to read in the data properly. Also, considering the size of the main dataset, it may take some time for it to load completely.\n",
    "\n",
    "Once the dataset is loaded, it's recommended that you take a little bit of time just browsing the general structure of the dataset and feature summary file. You'll be getting deep into the innards of the cleaning in the first major step of the project, so gaining some general familiarity can help you get your bearings."
   ]
  },
  {
   "cell_type": "code",
   "execution_count": 2,
   "metadata": {},
   "outputs": [],
   "source": [
    "# Load in the general demographics data.\n",
    "azdias = pd.read_csv('Udacity_AZDIAS_Subset.csv',sep=';')\n",
    "\n",
    "# Load in the feature summary file.\n",
    "feat_info = pd.read_csv('AZDIAS_Feature_Summary.csv',sep=';')"
   ]
  },
  {
   "cell_type": "code",
   "execution_count": 3,
   "metadata": {},
   "outputs": [
    {
     "data": {
      "text/plain": [
       "(891221, 85)"
      ]
     },
     "execution_count": 3,
     "metadata": {},
     "output_type": "execute_result"
    }
   ],
   "source": [
    "# Check the structure of the data after it's loaded (e.g. print the number of\n",
    "# rows and columns, print the first few rows).\n",
    "azdias.shape"
   ]
  },
  {
   "cell_type": "code",
   "execution_count": 4,
   "metadata": {},
   "outputs": [
    {
     "data": {
      "text/html": [
       "<div>\n",
       "<style scoped>\n",
       "    .dataframe tbody tr th:only-of-type {\n",
       "        vertical-align: middle;\n",
       "    }\n",
       "\n",
       "    .dataframe tbody tr th {\n",
       "        vertical-align: top;\n",
       "    }\n",
       "\n",
       "    .dataframe thead th {\n",
       "        text-align: right;\n",
       "    }\n",
       "</style>\n",
       "<table border=\"1\" class=\"dataframe\">\n",
       "  <thead>\n",
       "    <tr style=\"text-align: right;\">\n",
       "      <th></th>\n",
       "      <th>AGER_TYP</th>\n",
       "      <th>ALTERSKATEGORIE_GROB</th>\n",
       "      <th>ANREDE_KZ</th>\n",
       "      <th>CJT_GESAMTTYP</th>\n",
       "      <th>FINANZ_MINIMALIST</th>\n",
       "      <th>FINANZ_SPARER</th>\n",
       "      <th>FINANZ_VORSORGER</th>\n",
       "      <th>FINANZ_ANLEGER</th>\n",
       "      <th>FINANZ_UNAUFFAELLIGER</th>\n",
       "      <th>FINANZ_HAUSBAUER</th>\n",
       "      <th>...</th>\n",
       "      <th>PLZ8_ANTG1</th>\n",
       "      <th>PLZ8_ANTG2</th>\n",
       "      <th>PLZ8_ANTG3</th>\n",
       "      <th>PLZ8_ANTG4</th>\n",
       "      <th>PLZ8_BAUMAX</th>\n",
       "      <th>PLZ8_HHZ</th>\n",
       "      <th>PLZ8_GBZ</th>\n",
       "      <th>ARBEIT</th>\n",
       "      <th>ORTSGR_KLS9</th>\n",
       "      <th>RELAT_AB</th>\n",
       "    </tr>\n",
       "  </thead>\n",
       "  <tbody>\n",
       "    <tr>\n",
       "      <th>0</th>\n",
       "      <td>-1</td>\n",
       "      <td>2</td>\n",
       "      <td>1</td>\n",
       "      <td>2.0</td>\n",
       "      <td>3</td>\n",
       "      <td>4</td>\n",
       "      <td>3</td>\n",
       "      <td>5</td>\n",
       "      <td>5</td>\n",
       "      <td>3</td>\n",
       "      <td>...</td>\n",
       "      <td>NaN</td>\n",
       "      <td>NaN</td>\n",
       "      <td>NaN</td>\n",
       "      <td>NaN</td>\n",
       "      <td>NaN</td>\n",
       "      <td>NaN</td>\n",
       "      <td>NaN</td>\n",
       "      <td>NaN</td>\n",
       "      <td>NaN</td>\n",
       "      <td>NaN</td>\n",
       "    </tr>\n",
       "    <tr>\n",
       "      <th>1</th>\n",
       "      <td>-1</td>\n",
       "      <td>1</td>\n",
       "      <td>2</td>\n",
       "      <td>5.0</td>\n",
       "      <td>1</td>\n",
       "      <td>5</td>\n",
       "      <td>2</td>\n",
       "      <td>5</td>\n",
       "      <td>4</td>\n",
       "      <td>5</td>\n",
       "      <td>...</td>\n",
       "      <td>2.0</td>\n",
       "      <td>3.0</td>\n",
       "      <td>2.0</td>\n",
       "      <td>1.0</td>\n",
       "      <td>1.0</td>\n",
       "      <td>5.0</td>\n",
       "      <td>4.0</td>\n",
       "      <td>3.0</td>\n",
       "      <td>5.0</td>\n",
       "      <td>4.0</td>\n",
       "    </tr>\n",
       "    <tr>\n",
       "      <th>2</th>\n",
       "      <td>-1</td>\n",
       "      <td>3</td>\n",
       "      <td>2</td>\n",
       "      <td>3.0</td>\n",
       "      <td>1</td>\n",
       "      <td>4</td>\n",
       "      <td>1</td>\n",
       "      <td>2</td>\n",
       "      <td>3</td>\n",
       "      <td>5</td>\n",
       "      <td>...</td>\n",
       "      <td>3.0</td>\n",
       "      <td>3.0</td>\n",
       "      <td>1.0</td>\n",
       "      <td>0.0</td>\n",
       "      <td>1.0</td>\n",
       "      <td>4.0</td>\n",
       "      <td>4.0</td>\n",
       "      <td>3.0</td>\n",
       "      <td>5.0</td>\n",
       "      <td>2.0</td>\n",
       "    </tr>\n",
       "    <tr>\n",
       "      <th>3</th>\n",
       "      <td>2</td>\n",
       "      <td>4</td>\n",
       "      <td>2</td>\n",
       "      <td>2.0</td>\n",
       "      <td>4</td>\n",
       "      <td>2</td>\n",
       "      <td>5</td>\n",
       "      <td>2</td>\n",
       "      <td>1</td>\n",
       "      <td>2</td>\n",
       "      <td>...</td>\n",
       "      <td>2.0</td>\n",
       "      <td>2.0</td>\n",
       "      <td>2.0</td>\n",
       "      <td>0.0</td>\n",
       "      <td>1.0</td>\n",
       "      <td>3.0</td>\n",
       "      <td>4.0</td>\n",
       "      <td>2.0</td>\n",
       "      <td>3.0</td>\n",
       "      <td>3.0</td>\n",
       "    </tr>\n",
       "    <tr>\n",
       "      <th>4</th>\n",
       "      <td>-1</td>\n",
       "      <td>3</td>\n",
       "      <td>1</td>\n",
       "      <td>5.0</td>\n",
       "      <td>4</td>\n",
       "      <td>3</td>\n",
       "      <td>4</td>\n",
       "      <td>1</td>\n",
       "      <td>3</td>\n",
       "      <td>2</td>\n",
       "      <td>...</td>\n",
       "      <td>2.0</td>\n",
       "      <td>4.0</td>\n",
       "      <td>2.0</td>\n",
       "      <td>1.0</td>\n",
       "      <td>2.0</td>\n",
       "      <td>3.0</td>\n",
       "      <td>3.0</td>\n",
       "      <td>4.0</td>\n",
       "      <td>6.0</td>\n",
       "      <td>5.0</td>\n",
       "    </tr>\n",
       "  </tbody>\n",
       "</table>\n",
       "<p>5 rows × 85 columns</p>\n",
       "</div>"
      ],
      "text/plain": [
       "   AGER_TYP  ALTERSKATEGORIE_GROB  ANREDE_KZ  CJT_GESAMTTYP  \\\n",
       "0        -1                     2          1            2.0   \n",
       "1        -1                     1          2            5.0   \n",
       "2        -1                     3          2            3.0   \n",
       "3         2                     4          2            2.0   \n",
       "4        -1                     3          1            5.0   \n",
       "\n",
       "   FINANZ_MINIMALIST  FINANZ_SPARER  FINANZ_VORSORGER  FINANZ_ANLEGER  \\\n",
       "0                  3              4                 3               5   \n",
       "1                  1              5                 2               5   \n",
       "2                  1              4                 1               2   \n",
       "3                  4              2                 5               2   \n",
       "4                  4              3                 4               1   \n",
       "\n",
       "   FINANZ_UNAUFFAELLIGER  FINANZ_HAUSBAUER    ...     PLZ8_ANTG1  PLZ8_ANTG2  \\\n",
       "0                      5                 3    ...            NaN         NaN   \n",
       "1                      4                 5    ...            2.0         3.0   \n",
       "2                      3                 5    ...            3.0         3.0   \n",
       "3                      1                 2    ...            2.0         2.0   \n",
       "4                      3                 2    ...            2.0         4.0   \n",
       "\n",
       "   PLZ8_ANTG3  PLZ8_ANTG4  PLZ8_BAUMAX  PLZ8_HHZ  PLZ8_GBZ  ARBEIT  \\\n",
       "0         NaN         NaN          NaN       NaN       NaN     NaN   \n",
       "1         2.0         1.0          1.0       5.0       4.0     3.0   \n",
       "2         1.0         0.0          1.0       4.0       4.0     3.0   \n",
       "3         2.0         0.0          1.0       3.0       4.0     2.0   \n",
       "4         2.0         1.0          2.0       3.0       3.0     4.0   \n",
       "\n",
       "   ORTSGR_KLS9  RELAT_AB  \n",
       "0          NaN       NaN  \n",
       "1          5.0       4.0  \n",
       "2          5.0       2.0  \n",
       "3          3.0       3.0  \n",
       "4          6.0       5.0  \n",
       "\n",
       "[5 rows x 85 columns]"
      ]
     },
     "execution_count": 4,
     "metadata": {},
     "output_type": "execute_result"
    }
   ],
   "source": [
    "azdias.head()"
   ]
  },
  {
   "cell_type": "code",
   "execution_count": 5,
   "metadata": {},
   "outputs": [
    {
     "data": {
      "text/html": [
       "<div>\n",
       "<style scoped>\n",
       "    .dataframe tbody tr th:only-of-type {\n",
       "        vertical-align: middle;\n",
       "    }\n",
       "\n",
       "    .dataframe tbody tr th {\n",
       "        vertical-align: top;\n",
       "    }\n",
       "\n",
       "    .dataframe thead th {\n",
       "        text-align: right;\n",
       "    }\n",
       "</style>\n",
       "<table border=\"1\" class=\"dataframe\">\n",
       "  <thead>\n",
       "    <tr style=\"text-align: right;\">\n",
       "      <th></th>\n",
       "      <th>AGER_TYP</th>\n",
       "      <th>ALTERSKATEGORIE_GROB</th>\n",
       "      <th>ANREDE_KZ</th>\n",
       "      <th>CJT_GESAMTTYP</th>\n",
       "      <th>FINANZ_MINIMALIST</th>\n",
       "      <th>FINANZ_SPARER</th>\n",
       "      <th>FINANZ_VORSORGER</th>\n",
       "      <th>FINANZ_ANLEGER</th>\n",
       "      <th>FINANZ_UNAUFFAELLIGER</th>\n",
       "      <th>FINANZ_HAUSBAUER</th>\n",
       "      <th>...</th>\n",
       "      <th>PLZ8_ANTG1</th>\n",
       "      <th>PLZ8_ANTG2</th>\n",
       "      <th>PLZ8_ANTG3</th>\n",
       "      <th>PLZ8_ANTG4</th>\n",
       "      <th>PLZ8_BAUMAX</th>\n",
       "      <th>PLZ8_HHZ</th>\n",
       "      <th>PLZ8_GBZ</th>\n",
       "      <th>ARBEIT</th>\n",
       "      <th>ORTSGR_KLS9</th>\n",
       "      <th>RELAT_AB</th>\n",
       "    </tr>\n",
       "  </thead>\n",
       "  <tbody>\n",
       "    <tr>\n",
       "      <th>count</th>\n",
       "      <td>891221.000000</td>\n",
       "      <td>891221.000000</td>\n",
       "      <td>891221.000000</td>\n",
       "      <td>886367.000000</td>\n",
       "      <td>891221.000000</td>\n",
       "      <td>891221.000000</td>\n",
       "      <td>891221.000000</td>\n",
       "      <td>891221.000000</td>\n",
       "      <td>891221.000000</td>\n",
       "      <td>891221.000000</td>\n",
       "      <td>...</td>\n",
       "      <td>774706.000000</td>\n",
       "      <td>774706.000000</td>\n",
       "      <td>774706.000000</td>\n",
       "      <td>774706.000000</td>\n",
       "      <td>774706.000000</td>\n",
       "      <td>774706.000000</td>\n",
       "      <td>774706.000000</td>\n",
       "      <td>794005.000000</td>\n",
       "      <td>794005.000000</td>\n",
       "      <td>794005.00000</td>\n",
       "    </tr>\n",
       "    <tr>\n",
       "      <th>mean</th>\n",
       "      <td>-0.358435</td>\n",
       "      <td>2.777398</td>\n",
       "      <td>1.522098</td>\n",
       "      <td>3.632838</td>\n",
       "      <td>3.074528</td>\n",
       "      <td>2.821039</td>\n",
       "      <td>3.401106</td>\n",
       "      <td>3.033328</td>\n",
       "      <td>2.874167</td>\n",
       "      <td>3.075121</td>\n",
       "      <td>...</td>\n",
       "      <td>2.253330</td>\n",
       "      <td>2.801858</td>\n",
       "      <td>1.595426</td>\n",
       "      <td>0.699166</td>\n",
       "      <td>1.943913</td>\n",
       "      <td>3.612821</td>\n",
       "      <td>3.381087</td>\n",
       "      <td>3.167854</td>\n",
       "      <td>5.293002</td>\n",
       "      <td>3.07222</td>\n",
       "    </tr>\n",
       "    <tr>\n",
       "      <th>std</th>\n",
       "      <td>1.198724</td>\n",
       "      <td>1.068775</td>\n",
       "      <td>0.499512</td>\n",
       "      <td>1.595021</td>\n",
       "      <td>1.321055</td>\n",
       "      <td>1.464749</td>\n",
       "      <td>1.322134</td>\n",
       "      <td>1.529603</td>\n",
       "      <td>1.486731</td>\n",
       "      <td>1.353248</td>\n",
       "      <td>...</td>\n",
       "      <td>0.972008</td>\n",
       "      <td>0.920309</td>\n",
       "      <td>0.986736</td>\n",
       "      <td>0.727137</td>\n",
       "      <td>1.459654</td>\n",
       "      <td>0.973967</td>\n",
       "      <td>1.111598</td>\n",
       "      <td>1.002376</td>\n",
       "      <td>2.303739</td>\n",
       "      <td>1.36298</td>\n",
       "    </tr>\n",
       "    <tr>\n",
       "      <th>min</th>\n",
       "      <td>-1.000000</td>\n",
       "      <td>1.000000</td>\n",
       "      <td>1.000000</td>\n",
       "      <td>1.000000</td>\n",
       "      <td>1.000000</td>\n",
       "      <td>1.000000</td>\n",
       "      <td>1.000000</td>\n",
       "      <td>1.000000</td>\n",
       "      <td>1.000000</td>\n",
       "      <td>1.000000</td>\n",
       "      <td>...</td>\n",
       "      <td>0.000000</td>\n",
       "      <td>0.000000</td>\n",
       "      <td>0.000000</td>\n",
       "      <td>0.000000</td>\n",
       "      <td>1.000000</td>\n",
       "      <td>1.000000</td>\n",
       "      <td>1.000000</td>\n",
       "      <td>1.000000</td>\n",
       "      <td>0.000000</td>\n",
       "      <td>1.00000</td>\n",
       "    </tr>\n",
       "    <tr>\n",
       "      <th>25%</th>\n",
       "      <td>-1.000000</td>\n",
       "      <td>2.000000</td>\n",
       "      <td>1.000000</td>\n",
       "      <td>2.000000</td>\n",
       "      <td>2.000000</td>\n",
       "      <td>1.000000</td>\n",
       "      <td>3.000000</td>\n",
       "      <td>2.000000</td>\n",
       "      <td>2.000000</td>\n",
       "      <td>2.000000</td>\n",
       "      <td>...</td>\n",
       "      <td>1.000000</td>\n",
       "      <td>2.000000</td>\n",
       "      <td>1.000000</td>\n",
       "      <td>0.000000</td>\n",
       "      <td>1.000000</td>\n",
       "      <td>3.000000</td>\n",
       "      <td>3.000000</td>\n",
       "      <td>3.000000</td>\n",
       "      <td>4.000000</td>\n",
       "      <td>2.00000</td>\n",
       "    </tr>\n",
       "    <tr>\n",
       "      <th>50%</th>\n",
       "      <td>-1.000000</td>\n",
       "      <td>3.000000</td>\n",
       "      <td>2.000000</td>\n",
       "      <td>4.000000</td>\n",
       "      <td>3.000000</td>\n",
       "      <td>3.000000</td>\n",
       "      <td>3.000000</td>\n",
       "      <td>3.000000</td>\n",
       "      <td>3.000000</td>\n",
       "      <td>3.000000</td>\n",
       "      <td>...</td>\n",
       "      <td>2.000000</td>\n",
       "      <td>3.000000</td>\n",
       "      <td>2.000000</td>\n",
       "      <td>1.000000</td>\n",
       "      <td>1.000000</td>\n",
       "      <td>4.000000</td>\n",
       "      <td>3.000000</td>\n",
       "      <td>3.000000</td>\n",
       "      <td>5.000000</td>\n",
       "      <td>3.00000</td>\n",
       "    </tr>\n",
       "    <tr>\n",
       "      <th>75%</th>\n",
       "      <td>-1.000000</td>\n",
       "      <td>4.000000</td>\n",
       "      <td>2.000000</td>\n",
       "      <td>5.000000</td>\n",
       "      <td>4.000000</td>\n",
       "      <td>4.000000</td>\n",
       "      <td>5.000000</td>\n",
       "      <td>5.000000</td>\n",
       "      <td>4.000000</td>\n",
       "      <td>4.000000</td>\n",
       "      <td>...</td>\n",
       "      <td>3.000000</td>\n",
       "      <td>3.000000</td>\n",
       "      <td>2.000000</td>\n",
       "      <td>1.000000</td>\n",
       "      <td>3.000000</td>\n",
       "      <td>4.000000</td>\n",
       "      <td>4.000000</td>\n",
       "      <td>4.000000</td>\n",
       "      <td>7.000000</td>\n",
       "      <td>4.00000</td>\n",
       "    </tr>\n",
       "    <tr>\n",
       "      <th>max</th>\n",
       "      <td>3.000000</td>\n",
       "      <td>9.000000</td>\n",
       "      <td>2.000000</td>\n",
       "      <td>6.000000</td>\n",
       "      <td>5.000000</td>\n",
       "      <td>5.000000</td>\n",
       "      <td>5.000000</td>\n",
       "      <td>5.000000</td>\n",
       "      <td>5.000000</td>\n",
       "      <td>5.000000</td>\n",
       "      <td>...</td>\n",
       "      <td>4.000000</td>\n",
       "      <td>4.000000</td>\n",
       "      <td>3.000000</td>\n",
       "      <td>2.000000</td>\n",
       "      <td>5.000000</td>\n",
       "      <td>5.000000</td>\n",
       "      <td>5.000000</td>\n",
       "      <td>9.000000</td>\n",
       "      <td>9.000000</td>\n",
       "      <td>9.00000</td>\n",
       "    </tr>\n",
       "  </tbody>\n",
       "</table>\n",
       "<p>8 rows × 81 columns</p>\n",
       "</div>"
      ],
      "text/plain": [
       "            AGER_TYP  ALTERSKATEGORIE_GROB      ANREDE_KZ  CJT_GESAMTTYP  \\\n",
       "count  891221.000000         891221.000000  891221.000000  886367.000000   \n",
       "mean       -0.358435              2.777398       1.522098       3.632838   \n",
       "std         1.198724              1.068775       0.499512       1.595021   \n",
       "min        -1.000000              1.000000       1.000000       1.000000   \n",
       "25%        -1.000000              2.000000       1.000000       2.000000   \n",
       "50%        -1.000000              3.000000       2.000000       4.000000   \n",
       "75%        -1.000000              4.000000       2.000000       5.000000   \n",
       "max         3.000000              9.000000       2.000000       6.000000   \n",
       "\n",
       "       FINANZ_MINIMALIST  FINANZ_SPARER  FINANZ_VORSORGER  FINANZ_ANLEGER  \\\n",
       "count      891221.000000  891221.000000     891221.000000   891221.000000   \n",
       "mean            3.074528       2.821039          3.401106        3.033328   \n",
       "std             1.321055       1.464749          1.322134        1.529603   \n",
       "min             1.000000       1.000000          1.000000        1.000000   \n",
       "25%             2.000000       1.000000          3.000000        2.000000   \n",
       "50%             3.000000       3.000000          3.000000        3.000000   \n",
       "75%             4.000000       4.000000          5.000000        5.000000   \n",
       "max             5.000000       5.000000          5.000000        5.000000   \n",
       "\n",
       "       FINANZ_UNAUFFAELLIGER  FINANZ_HAUSBAUER      ...          PLZ8_ANTG1  \\\n",
       "count          891221.000000     891221.000000      ...       774706.000000   \n",
       "mean                2.874167          3.075121      ...            2.253330   \n",
       "std                 1.486731          1.353248      ...            0.972008   \n",
       "min                 1.000000          1.000000      ...            0.000000   \n",
       "25%                 2.000000          2.000000      ...            1.000000   \n",
       "50%                 3.000000          3.000000      ...            2.000000   \n",
       "75%                 4.000000          4.000000      ...            3.000000   \n",
       "max                 5.000000          5.000000      ...            4.000000   \n",
       "\n",
       "          PLZ8_ANTG2     PLZ8_ANTG3     PLZ8_ANTG4    PLZ8_BAUMAX  \\\n",
       "count  774706.000000  774706.000000  774706.000000  774706.000000   \n",
       "mean        2.801858       1.595426       0.699166       1.943913   \n",
       "std         0.920309       0.986736       0.727137       1.459654   \n",
       "min         0.000000       0.000000       0.000000       1.000000   \n",
       "25%         2.000000       1.000000       0.000000       1.000000   \n",
       "50%         3.000000       2.000000       1.000000       1.000000   \n",
       "75%         3.000000       2.000000       1.000000       3.000000   \n",
       "max         4.000000       3.000000       2.000000       5.000000   \n",
       "\n",
       "            PLZ8_HHZ       PLZ8_GBZ         ARBEIT    ORTSGR_KLS9  \\\n",
       "count  774706.000000  774706.000000  794005.000000  794005.000000   \n",
       "mean        3.612821       3.381087       3.167854       5.293002   \n",
       "std         0.973967       1.111598       1.002376       2.303739   \n",
       "min         1.000000       1.000000       1.000000       0.000000   \n",
       "25%         3.000000       3.000000       3.000000       4.000000   \n",
       "50%         4.000000       3.000000       3.000000       5.000000   \n",
       "75%         4.000000       4.000000       4.000000       7.000000   \n",
       "max         5.000000       5.000000       9.000000       9.000000   \n",
       "\n",
       "           RELAT_AB  \n",
       "count  794005.00000  \n",
       "mean        3.07222  \n",
       "std         1.36298  \n",
       "min         1.00000  \n",
       "25%         2.00000  \n",
       "50%         3.00000  \n",
       "75%         4.00000  \n",
       "max         9.00000  \n",
       "\n",
       "[8 rows x 81 columns]"
      ]
     },
     "execution_count": 5,
     "metadata": {},
     "output_type": "execute_result"
    }
   ],
   "source": [
    "azdias.describe()"
   ]
  },
  {
   "cell_type": "code",
   "execution_count": 6,
   "metadata": {},
   "outputs": [
    {
     "data": {
      "text/plain": [
       "(85, 4)"
      ]
     },
     "execution_count": 6,
     "metadata": {},
     "output_type": "execute_result"
    }
   ],
   "source": [
    "feat_info.shape"
   ]
  },
  {
   "cell_type": "code",
   "execution_count": 7,
   "metadata": {},
   "outputs": [
    {
     "data": {
      "text/html": [
       "<div>\n",
       "<style scoped>\n",
       "    .dataframe tbody tr th:only-of-type {\n",
       "        vertical-align: middle;\n",
       "    }\n",
       "\n",
       "    .dataframe tbody tr th {\n",
       "        vertical-align: top;\n",
       "    }\n",
       "\n",
       "    .dataframe thead th {\n",
       "        text-align: right;\n",
       "    }\n",
       "</style>\n",
       "<table border=\"1\" class=\"dataframe\">\n",
       "  <thead>\n",
       "    <tr style=\"text-align: right;\">\n",
       "      <th></th>\n",
       "      <th>attribute</th>\n",
       "      <th>information_level</th>\n",
       "      <th>type</th>\n",
       "      <th>missing_or_unknown</th>\n",
       "    </tr>\n",
       "  </thead>\n",
       "  <tbody>\n",
       "    <tr>\n",
       "      <th>0</th>\n",
       "      <td>AGER_TYP</td>\n",
       "      <td>person</td>\n",
       "      <td>categorical</td>\n",
       "      <td>[-1,0]</td>\n",
       "    </tr>\n",
       "    <tr>\n",
       "      <th>1</th>\n",
       "      <td>ALTERSKATEGORIE_GROB</td>\n",
       "      <td>person</td>\n",
       "      <td>ordinal</td>\n",
       "      <td>[-1,0,9]</td>\n",
       "    </tr>\n",
       "    <tr>\n",
       "      <th>2</th>\n",
       "      <td>ANREDE_KZ</td>\n",
       "      <td>person</td>\n",
       "      <td>categorical</td>\n",
       "      <td>[-1,0]</td>\n",
       "    </tr>\n",
       "    <tr>\n",
       "      <th>3</th>\n",
       "      <td>CJT_GESAMTTYP</td>\n",
       "      <td>person</td>\n",
       "      <td>categorical</td>\n",
       "      <td>[0]</td>\n",
       "    </tr>\n",
       "    <tr>\n",
       "      <th>4</th>\n",
       "      <td>FINANZ_MINIMALIST</td>\n",
       "      <td>person</td>\n",
       "      <td>ordinal</td>\n",
       "      <td>[-1]</td>\n",
       "    </tr>\n",
       "  </tbody>\n",
       "</table>\n",
       "</div>"
      ],
      "text/plain": [
       "              attribute information_level         type missing_or_unknown\n",
       "0              AGER_TYP            person  categorical             [-1,0]\n",
       "1  ALTERSKATEGORIE_GROB            person      ordinal           [-1,0,9]\n",
       "2             ANREDE_KZ            person  categorical             [-1,0]\n",
       "3         CJT_GESAMTTYP            person  categorical                [0]\n",
       "4     FINANZ_MINIMALIST            person      ordinal               [-1]"
      ]
     },
     "execution_count": 7,
     "metadata": {},
     "output_type": "execute_result"
    }
   ],
   "source": [
    "feat_info.head()"
   ]
  },
  {
   "cell_type": "markdown",
   "metadata": {},
   "source": [
    "> **Tip**: Add additional cells to keep everything in reasonably-sized chunks! Keyboard shortcut `esc --> a` (press escape to enter command mode, then press the 'A' key) adds a new cell before the active cell, and `esc --> b` adds a new cell after the active cell. If you need to convert an active cell to a markdown cell, use `esc --> m` and to convert to a code cell, use `esc --> y`. \n",
    "\n",
    "## Step 1: Preprocessing\n",
    "\n",
    "### Step 1.1: Assess Missing Data\n",
    "\n",
    "The feature summary file contains a summary of properties for each demographics data column. You will use this file to help you make cleaning decisions during this stage of the project. First of all, you should assess the demographics data in terms of missing data. Pay attention to the following points as you perform your analysis, and take notes on what you observe. Make sure that you fill in the **Discussion** cell with your findings and decisions at the end of each step that has one!\n",
    "\n",
    "#### Step 1.1.1: Convert Missing Value Codes to NaNs\n",
    "The fourth column of the feature attributes summary (loaded in above as `feat_info`) documents the codes from the data dictionary that indicate missing or unknown data. While the file encodes this as a list (e.g. `[-1,0]`), this will get read in as a string object. You'll need to do a little bit of parsing to make use of it to identify and clean the data. Convert data that matches a 'missing' or 'unknown' value code into a numpy NaN value. You might want to see how much data takes on a 'missing' or 'unknown' code, and how much data is naturally missing, as a point of interest.\n",
    "\n",
    "**As one more reminder, you are encouraged to add additional cells to break up your analysis into manageable chunks.**"
   ]
  },
  {
   "cell_type": "code",
   "execution_count": 8,
   "metadata": {},
   "outputs": [],
   "source": [
    "# Identify missing or unknown data values and convert them to NaNs.\n",
    "\n",
    "# convert string of unknown data into a list\n",
    "feat_info.missing_or_unknown = feat_info.missing_or_unknown.str.strip('[]').str.split(',')\n",
    "\n",
    "# replace unknown data with nan\n",
    "for i in range(len(feat_info)):\n",
    "    for j in range(len(feat_info['missing_or_unknown'][i])):\n",
    "        if feat_info['missing_or_unknown'][i][j] not in ['','X','XX']:\n",
    "            feat_info['missing_or_unknown'][i][j] = int(feat_info['missing_or_unknown'][i][j])\n",
    "    azdias.loc[:, feat_info['attribute'][i]].replace(feat_info['missing_or_unknown'][i], np.nan, inplace=True)"
   ]
  },
  {
   "cell_type": "markdown",
   "metadata": {},
   "source": [
    "#### Step 1.1.2: Assess Missing Data in Each Column\n",
    "\n",
    "How much missing data is present in each column? There are a few columns that are outliers in terms of the proportion of values that are missing. You will want to use matplotlib's [`hist()`](https://matplotlib.org/api/_as_gen/matplotlib.pyplot.hist.html) function to visualize the distribution of missing value counts to find these columns. Identify and document these columns. While some of these columns might have justifications for keeping or re-encoding the data, for this project you should just remove them from the dataframe. (Feel free to make remarks about these outlier columns in the discussion, however!)\n",
    "\n",
    "For the remaining features, are there any patterns in which columns have, or share, missing data?"
   ]
  },
  {
   "cell_type": "code",
   "execution_count": 9,
   "metadata": {},
   "outputs": [],
   "source": [
    "# Perform an assessment of how much missing data there is in each column of the\n",
    "# dataset.\n",
    "na_count = azdias.isnull().sum()\n",
    "na_percent = np.round(na_count * 100 / azdias.shape[0], 2)\n",
    "colnames = na_count.index\n",
    "\n",
    "data_tuples = list(zip(colnames, na_count, na_percent))\n",
    "df_nan_col = pd.DataFrame(data_tuples, columns=['attribute','na_count', 'na_percent'], index=na_count.index)\n",
    "df_nan_col.sort_values(by='na_count', ascending=False, inplace=True)"
   ]
  },
  {
   "cell_type": "code",
   "execution_count": 10,
   "metadata": {},
   "outputs": [
    {
     "data": {
      "image/png": "[encoded data removed]",
      "text/plain": [
       "<matplotlib.figure.Figure at 0x7f0168630f98>"
      ]
     },
     "metadata": {
      "needs_background": "light"
     },
     "output_type": "display_data"
    }
   ],
   "source": [
    "# Investigate patterns in the amount of missing data in each column.\n",
    "df_nan_col.na_percent.plot.bar(figsize=(16, 9))\n",
    "plt.title('NaN by Feature')\n",
    "plt.ylabel('% of NaN values found by feature')\n",
    "plt.show()"
   ]
  },
  {
   "cell_type": "code",
   "execution_count": 11,
   "metadata": {},
   "outputs": [
    {
     "data": {
      "text/plain": [
       "['TITEL_KZ',\n",
       " 'AGER_TYP',\n",
       " 'KK_KUNDENTYP',\n",
       " 'KBA05_BAUMAX',\n",
       " 'GEBURTSJAHR',\n",
       " 'ALTER_HH']"
      ]
     },
     "execution_count": 11,
     "metadata": {},
     "output_type": "execute_result"
    }
   ],
   "source": [
    "# Remove the outlier columns from the dataset. (You'll perform other data\n",
    "# engineering tasks such as re-encoding and imputation later.)\n",
    "dropcolnames = df_nan_col[df_nan_col.na_percent > 25].index.tolist()\n",
    "dropcolnames"
   ]
  },
  {
   "cell_type": "code",
   "execution_count": 12,
   "metadata": {},
   "outputs": [
    {
     "data": {
      "text/plain": [
       "(891221, 79)"
      ]
     },
     "execution_count": 12,
     "metadata": {},
     "output_type": "execute_result"
    }
   ],
   "source": [
    "azdias_dropcols = azdias.drop(dropcolnames, axis=1)\n",
    "azdias_dropcols.shape"
   ]
  },
  {
   "cell_type": "code",
   "execution_count": 13,
   "metadata": {},
   "outputs": [
    {
     "data": {
      "text/plain": [
       "(79, 6)"
      ]
     },
     "execution_count": 13,
     "metadata": {},
     "output_type": "execute_result"
    }
   ],
   "source": [
    "# For the remaining features, are there any patterns in which columns have, or share, missing data?\n",
    "df_nan_dropcols = df_nan_col.drop(dropcolnames, axis=0)\n",
    "feat_info_dropcols = df_nan_dropcols.reset_index().merge(feat_info, how='left').set_index('index')\n",
    "feat_info_dropcols.shape"
   ]
  },
  {
   "cell_type": "code",
   "execution_count": 14,
   "metadata": {},
   "outputs": [
    {
     "data": {
      "image/png": "[encoded data removed]",
      "text/plain": [
       "<matplotlib.figure.Figure at 0x7f015b6e7898>"
      ]
     },
     "metadata": {
      "needs_background": "light"
     },
     "output_type": "display_data"
    }
   ],
   "source": [
    "features_sel = feat_info_dropcols['attribute']\n",
    "data_explore = azdias.loc[:,features_sel]\n",
    "\n",
    "plt.figure(figsize=(16,16))\n",
    "sns.set(font_scale=0.7)\n",
    "hmap = sns.heatmap(data_explore.corr(), cmap=\"YlGnBu\",linewidths=.5,xticklabels=True, yticklabels=True)\n",
    "plt.title('Correlation heatmap for the remaining features')\n",
    "plt.show()"
   ]
  },
  {
   "cell_type": "markdown",
   "metadata": {},
   "source": [
    "#### Discussion 1.1.2: Assess Missing Data in Each Column\n",
    "\n",
    "Based on the 'NaN by Feature' bar plot above, there are some columns which seem to have a higher proportion of missing data in comparison to the rest. Although it may sound a bit arbitrary, I decided to exclude any column with more than 25% of mising data. I am not sure what would be a reasonable cut-off value to drop a column but by looking at the bar plot it seems that the proportion of NaN values in each column starts to decrease slowly after the ALTER_HH feature (which has 34.81% of missing values). This means that any cut-off value below the NaN proportion of the following feature -named KKK- could result in a significan amount of columns being dropped - which is not a desired situation since we could be losing lots of information. Having said this, I decided to come up with a 25% cut-off value which is somewhere in between the ALTER_HH and the KKK proportions of NaN.\n",
    "\n",
    "In addition, I investigated the correlation for the remaining features by plotting a correlation heatmap. Potentially, I could drop some additional features which have a high proportion of NaN values and which are highly correlated with other features that have no NaN values or a lower proportion of them. We could argue that those features would not provide additional value when it comes to perform the clustering analysis since there are other features with more complete data providing similar information. So, removing those correlated features with high missing data may improve our clustering goal by getting rid of noisy data. Unfortunately, it seems that those features that are correlated to each other have typically a very similar amount of missing values. So, I am not convinced that we will benefit that much from dropping additional columns just because they present high correlation. In addition, since I will be applying the PCA before the clustering, I would expect for the PCA to take care of assigning low weights to those features which are highly correlated to others. So, at this stage, I would prefer not to drop any additional features.\n"
   ]
  },
  {
   "cell_type": "markdown",
   "metadata": {},
   "source": [
    "#### Step 1.1.3: Assess Missing Data in Each Row\n",
    "\n",
    "Now, you'll perform a similar assessment for the rows of the dataset. How much data is missing in each row? As with the columns, you should see some groups of points that have a very different numbers of missing values. Divide the data into two subsets: one for data points that are above some threshold for missing values, and a second subset for points below that threshold.\n",
    "\n",
    "In order to know what to do with the outlier rows, we should see if the distribution of data values on columns that are not missing data (or are missing very little data) are similar or different between the two groups. Select at least five of these columns and compare the distribution of values.\n",
    "- You can use seaborn's [`countplot()`](https://seaborn.pydata.org/generated/seaborn.countplot.html) function to create a bar chart of code frequencies and matplotlib's [`subplot()`](https://matplotlib.org/api/_as_gen/matplotlib.pyplot.subplot.html) function to put bar charts for the two subplots side by side.\n",
    "- To reduce repeated code, you might want to write a function that can perform this comparison, taking as one of its arguments a column to be compared.\n",
    "\n",
    "Depending on what you observe in your comparison, this will have implications on how you approach your conclusions later in the analysis. If the distributions of non-missing features look similar between the data with many missing values and the data with few or no missing values, then we could argue that simply dropping those points from the analysis won't present a major issue. On the other hand, if the data with many missing values looks very different from the data with few or no missing values, then we should make a note on those data as special. We'll revisit these data later on. **Either way, you should continue your analysis for now using just the subset of the data with few or no missing values.**"
   ]
  },
  {
   "cell_type": "code",
   "execution_count": 15,
   "metadata": {},
   "outputs": [
    {
     "name": "stdout",
     "output_type": "stream",
     "text": [
      "69.93% of the rows have no missing values.\n"
     ]
    }
   ],
   "source": [
    "# How much data is missing in each row of the dataset?\n",
    "na_countperrow = azdias_dropcols.isnull().sum(axis=1)\n",
    "row_per = sum(na_countperrow.lt(1))/len(na_countperrow)\n",
    "print('{:.2%}' .format(row_per) + ' of the rows have no missing values.')"
   ]
  },
  {
   "cell_type": "code",
   "execution_count": 16,
   "metadata": {},
   "outputs": [
    {
     "data": {
      "image/png": "[encoded data removed]",
      "text/plain": [
       "<matplotlib.figure.Figure at 0x7f015b6ed9b0>"
      ]
     },
     "metadata": {},
     "output_type": "display_data"
    }
   ],
   "source": [
    "plt.figure(figsize=(14,10))\n",
    "sns.countplot(na_countperrow)\n",
    "sns.set(font_scale=1)\n",
    "plt.title('NaN per Observation')\n",
    "plt.show()"
   ]
  },
  {
   "cell_type": "code",
   "execution_count": 17,
   "metadata": {},
   "outputs": [],
   "source": [
    "# Write code to divide the data into two subsets based on the number of missing\n",
    "# values in each row.\n",
    "split_value = 20\n",
    "data_reduced = azdias_dropcols[na_countperrow < split_value]\n",
    "data_nan = azdias_dropcols[na_countperrow >= split_value]"
   ]
  },
  {
   "cell_type": "code",
   "execution_count": 18,
   "metadata": {},
   "outputs": [
    {
     "data": {
      "text/plain": [
       "891221"
      ]
     },
     "execution_count": 18,
     "metadata": {},
     "output_type": "execute_result"
    }
   ],
   "source": [
    "# confirm the split is correct by checking the total number of rows on both dataframes\n",
    "len(data_reduced)+len(data_nan)"
   ]
  },
  {
   "cell_type": "code",
   "execution_count": 19,
   "metadata": {},
   "outputs": [
    {
     "name": "stdout",
     "output_type": "stream",
     "text": [
      "89.44% of the rows have a few or no missing values.\n"
     ]
    }
   ],
   "source": [
    "# Porportion of rows with a few or no missing values (<20 NaN per row)\n",
    "lowna_row_per = len(data_reduced)/len(azdias_dropcols)\n",
    "print('{:.2%}' .format(lowna_row_per) + ' of the rows have a few or no missing values.')"
   ]
  },
  {
   "cell_type": "code",
   "execution_count": 20,
   "metadata": {},
   "outputs": [],
   "source": [
    "# Compare the distribution of values for at least five columns where there are\n",
    "# no or few missing values, between the two subsets.\n",
    "\n",
    "def plot_feature_dist(col_name):\n",
    "    fig, (ax1, ax2) = plt.subplots(1, 2, sharey=True, figsize=(16, 8))\n",
    "    ax1.title.set_text('Histogram from data with few missing values')\n",
    "    sns.countplot(data_reduced.loc[:,col_name], ax = ax1)\n",
    "    ax2.title.set_text('Histogram from data with high missing values')\n",
    "    sns.countplot(data_nan.loc[:,col_name], ax = ax2)"
   ]
  },
  {
   "cell_type": "code",
   "execution_count": 21,
   "metadata": {},
   "outputs": [
    {
     "data": {
      "image/png": "[encoded data removed]",
      "text/plain": [
       "<matplotlib.figure.Figure at 0x7f015acef828>"
      ]
     },
     "metadata": {},
     "output_type": "display_data"
    },
    {
     "data": {
      "image/png": "[encoded data removed]",
      "text/plain": [
       "<matplotlib.figure.Figure at 0x7f0158139278>"
      ]
     },
     "metadata": {},
     "output_type": "display_data"
    },
    {
     "data": {
      "image/png": "[encoded data removed]",
      "text/plain": [
       "<matplotlib.figure.Figure at 0x7f015809d5c0>"
      ]
     },
     "metadata": {},
     "output_type": "display_data"
    },
    {
     "data": {
      "image/png": "[encoded data removed]",
      "text/plain": [
       "<matplotlib.figure.Figure at 0x7f015ac74160>"
      ]
     },
     "metadata": {},
     "output_type": "display_data"
    },
    {
     "data": {
      "image/png": "[encoded data removed]",
      "text/plain": [
       "<matplotlib.figure.Figure at 0x7f015b6dbe80>"
      ]
     },
     "metadata": {},
     "output_type": "display_data"
    }
   ],
   "source": [
    "# Only compare features with no missing data\n",
    "sample_cols = azdias_dropcols.columns[azdias_dropcols.notnull().all()].to_series().sample(5)\n",
    "\n",
    "for col in sample_cols:\n",
    "    plot_feature_dist(col)"
   ]
  },
  {
   "cell_type": "markdown",
   "metadata": {},
   "source": [
    "#### Discussion 1.1.3: Assess Missing Data in Each Row\n",
    "\n",
    "(Double-click this cell and replace this text with your own text, reporting your observations regarding missing data in rows. Are the data with lots of missing values are qualitatively different from data with few or no missing values?)  \n",
    "\n",
    "Approximately 70% of the rows have no missing values at all. Now, by looking at the bar plot titled 'NaN Per Observation' it seems that there are a few amount of rows with clearly a higher proportion of missing values compared to the rest (the tail of the plot). Having said this, I decided to use a threshold of 20 missing values per row to split the original dataset into two new subsets. This means that ~89% of the records having a few or no missing values per row are now captured on the data_reduced dataframe while the remaining ~11% of the data having a high proportion of missing values per row are stored on the data_nan dataframe.\n",
    "\n",
    "When comparing the distributions of five \"non-missing\" features between the subset of data with high missing values against the other subset of data with a few missing values, I can see that these do not look similar. This means that by leaving behind those rows with a higher number of NaN values I am also potentially loosing some valuable information on some of the \"non-missing\" features. Since it is suggested that I continue with the subset of data with a few missing values then I will revisit this later on."
   ]
  },
  {
   "cell_type": "markdown",
   "metadata": {},
   "source": [
    "### Step 1.2: Select and Re-Encode Features\n",
    "\n",
    "Checking for missing data isn't the only way in which you can prepare a dataset for analysis. Since the unsupervised learning techniques to be used will only work on data that is encoded numerically, you need to make a few encoding changes or additional assumptions to be able to make progress. In addition, while almost all of the values in the dataset are encoded using numbers, not all of them represent numeric values. Check the third column of the feature summary (`feat_info`) for a summary of types of measurement.\n",
    "- For numeric and interval data, these features can be kept without changes.\n",
    "- Most of the variables in the dataset are ordinal in nature. While ordinal values may technically be non-linear in spacing, make the simplifying assumption that the ordinal variables can be treated as being interval in nature (that is, kept without any changes).\n",
    "- Special handling may be necessary for the remaining two variable types: categorical, and 'mixed'.\n",
    "\n",
    "In the first two parts of this sub-step, you will perform an investigation of the categorical and mixed-type features and make a decision on each of them, whether you will keep, drop, or re-encode each. Then, in the last part, you will create a new data frame with only the selected and engineered columns.\n",
    "\n",
    "Data wrangling is often the trickiest part of the data analysis process, and there's a lot of it to be done here. But stick with it: once you're done with this step, you'll be ready to get to the machine learning parts of the project!"
   ]
  },
  {
   "cell_type": "code",
   "execution_count": 22,
   "metadata": {},
   "outputs": [
    {
     "data": {
      "text/plain": [
       "ordinal        49\n",
       "categorical    18\n",
       "mixed           6\n",
       "numeric         6\n",
       "Name: type, dtype: int64"
      ]
     },
     "execution_count": 22,
     "metadata": {},
     "output_type": "execute_result"
    }
   ],
   "source": [
    "# How many features are there of each data type?\n",
    "feat_info_dropcols.type.value_counts()"
   ]
  },
  {
   "cell_type": "markdown",
   "metadata": {},
   "source": [
    "#### Step 1.2.1: Re-Encode Categorical Features\n",
    "\n",
    "For categorical data, you would ordinarily need to encode the levels as dummy variables. Depending on the number of categories, perform one of the following:\n",
    "- For binary (two-level) categoricals that take numeric values, you can keep them without needing to do anything.\n",
    "- There is one binary variable that takes on non-numeric values. For this one, you need to re-encode the values as numbers or create a dummy variable.\n",
    "- For multi-level categoricals (three or more values), you can choose to encode the values using multiple dummy variables (e.g. via [OneHotEncoder](http://scikit-learn.org/stable/modules/generated/sklearn.preprocessing.OneHotEncoder.html)), or (to keep things straightforward) just drop them from the analysis. As always, document your choices in the Discussion section."
   ]
  },
  {
   "cell_type": "code",
   "execution_count": 23,
   "metadata": {},
   "outputs": [
    {
     "data": {
      "text/plain": [
       "VERS_TYP             2\n",
       "SHOPPER_TYP          4\n",
       "NATIONALITAET_KZ     3\n",
       "CAMEO_DEU_2015      44\n",
       "CAMEO_DEUG_2015      9\n",
       "OST_WEST_KZ          2\n",
       "GEBAEUDETYP          7\n",
       "LP_FAMILIE_FEIN     11\n",
       "LP_FAMILIE_GROB      5\n",
       "SOHO_KZ              2\n",
       "GFK_URLAUBERTYP     12\n",
       "CJT_GESAMTTYP        6\n",
       "LP_STATUS_FEIN      10\n",
       "LP_STATUS_GROB       5\n",
       "FINANZTYP            6\n",
       "GREEN_AVANTGARDE     2\n",
       "ANREDE_KZ            2\n",
       "ZABEOTYP             6\n",
       "dtype: int64"
      ]
     },
     "execution_count": 23,
     "metadata": {},
     "output_type": "execute_result"
    }
   ],
   "source": [
    "# Assess categorical variables: which are binary, which are multi-level, and\n",
    "# which one needs to be re-encoded?\n",
    "categorical = feat_info_dropcols[feat_info_dropcols['type'] == 'categorical']['attribute'].values\n",
    "data_reduced[categorical].nunique()"
   ]
  },
  {
   "cell_type": "code",
   "execution_count": 24,
   "metadata": {},
   "outputs": [],
   "source": [
    "binary = [x for x in categorical if data_reduced[x].nunique()==2]\n",
    "multilevel = [x for x in categorical if data_reduced[x].nunique()>2]"
   ]
  },
  {
   "cell_type": "code",
   "execution_count": 25,
   "metadata": {},
   "outputs": [
    {
     "name": "stdout",
     "output_type": "stream",
     "text": [
      "2.0    394116\n",
      "1.0    366623\n",
      "Name: VERS_TYP, dtype: int64\n",
      "W    628695\n",
      "O    168382\n",
      "Name: OST_WEST_KZ, dtype: int64\n",
      "0.0    790370\n",
      "1.0      6707\n",
      "Name: SOHO_KZ, dtype: int64\n",
      "0    621942\n",
      "1    175135\n",
      "Name: GREEN_AVANTGARDE, dtype: int64\n",
      "2    415578\n",
      "1    381499\n",
      "Name: ANREDE_KZ, dtype: int64\n"
     ]
    }
   ],
   "source": [
    "# Identify binary feature with non-numeric values\n",
    "for col in binary:\n",
    "    print(data_reduced[col].value_counts())"
   ]
  },
  {
   "cell_type": "code",
   "execution_count": 26,
   "metadata": {},
   "outputs": [
    {
     "data": {
      "text/plain": [
       "(797077, 79)"
      ]
     },
     "execution_count": 26,
     "metadata": {},
     "output_type": "execute_result"
    }
   ],
   "source": [
    "data_reduced.shape"
   ]
  },
  {
   "cell_type": "code",
   "execution_count": 27,
   "metadata": {},
   "outputs": [],
   "source": [
    "# Re-encode categorical variable(s) to be kept in the analysis.\n",
    "data_reduced.loc[:, 'OST_WEST_KZ'].replace({'W':0, 'O':1}, inplace=True)\n",
    "data_reduced = pd.get_dummies(data_reduced, columns=multilevel)"
   ]
  },
  {
   "cell_type": "code",
   "execution_count": 28,
   "metadata": {},
   "outputs": [
    {
     "data": {
      "text/plain": [
       "(797077, 194)"
      ]
     },
     "execution_count": 28,
     "metadata": {},
     "output_type": "execute_result"
    }
   ],
   "source": [
    "data_reduced.shape"
   ]
  },
  {
   "cell_type": "code",
   "execution_count": 29,
   "metadata": {},
   "outputs": [
    {
     "name": "stdout",
     "output_type": "stream",
     "text": [
      "194 total features after one-hot encoding.\n"
     ]
    }
   ],
   "source": [
    "# Print the number of features after one-hot encoding\n",
    "encoded = list(data_reduced.columns)\n",
    "print(\"{} total features after one-hot encoding.\".format(len(encoded)))"
   ]
  },
  {
   "cell_type": "code",
   "execution_count": 30,
   "metadata": {},
   "outputs": [
    {
     "name": "stdout",
     "output_type": "stream",
     "text": [
      "['ALTERSKATEGORIE_GROB', 'ANREDE_KZ', 'FINANZ_MINIMALIST', 'FINANZ_SPARER', 'FINANZ_VORSORGER', 'FINANZ_ANLEGER', 'FINANZ_UNAUFFAELLIGER', 'FINANZ_HAUSBAUER', 'GREEN_AVANTGARDE', 'HEALTH_TYP', 'LP_LEBENSPHASE_FEIN', 'LP_LEBENSPHASE_GROB', 'PRAEGENDE_JUGENDJAHRE', 'RETOURTYP_BK_S', 'SEMIO_SOZ', 'SEMIO_FAM', 'SEMIO_REL', 'SEMIO_MAT', 'SEMIO_VERT', 'SEMIO_LUST', 'SEMIO_ERL', 'SEMIO_KULT', 'SEMIO_RAT', 'SEMIO_KRIT', 'SEMIO_DOM', 'SEMIO_KAEM', 'SEMIO_PFLICHT', 'SEMIO_TRADV', 'SOHO_KZ', 'VERS_TYP', 'ANZ_PERSONEN', 'ANZ_TITEL', 'HH_EINKOMMEN_SCORE', 'W_KEIT_KIND_HH', 'WOHNDAUER_2008', 'ANZ_HAUSHALTE_AKTIV', 'ANZ_HH_TITEL', 'KONSUMNAEHE', 'MIN_GEBAEUDEJAHR', 'OST_WEST_KZ', 'WOHNLAGE', 'CAMEO_INTL_2015', 'KBA05_ANTG1', 'KBA05_ANTG2', 'KBA05_ANTG3', 'KBA05_ANTG4', 'KBA05_GBZ', 'BALLRAUM', 'EWDICHTE', 'INNENSTADT', 'GEBAEUDETYP_RASTER', 'KKK', 'MOBI_REGIO', 'ONLINE_AFFINITAET', 'REGIOTYP', 'KBA13_ANZAHL_PKW', 'PLZ8_ANTG1', 'PLZ8_ANTG2', 'PLZ8_ANTG3', 'PLZ8_ANTG4', 'PLZ8_BAUMAX', 'PLZ8_HHZ', 'PLZ8_GBZ', 'ARBEIT', 'ORTSGR_KLS9', 'RELAT_AB', 'SHOPPER_TYP_0.0', 'SHOPPER_TYP_1.0', 'SHOPPER_TYP_2.0', 'SHOPPER_TYP_3.0', 'NATIONALITAET_KZ_1.0', 'NATIONALITAET_KZ_2.0', 'NATIONALITAET_KZ_3.0', 'CAMEO_DEU_2015_1A', 'CAMEO_DEU_2015_1B', 'CAMEO_DEU_2015_1C', 'CAMEO_DEU_2015_1D', 'CAMEO_DEU_2015_1E', 'CAMEO_DEU_2015_2A', 'CAMEO_DEU_2015_2B', 'CAMEO_DEU_2015_2C', 'CAMEO_DEU_2015_2D', 'CAMEO_DEU_2015_3A', 'CAMEO_DEU_2015_3B', 'CAMEO_DEU_2015_3C', 'CAMEO_DEU_2015_3D', 'CAMEO_DEU_2015_4A', 'CAMEO_DEU_2015_4B', 'CAMEO_DEU_2015_4C', 'CAMEO_DEU_2015_4D', 'CAMEO_DEU_2015_4E', 'CAMEO_DEU_2015_5A', 'CAMEO_DEU_2015_5B', 'CAMEO_DEU_2015_5C', 'CAMEO_DEU_2015_5D', 'CAMEO_DEU_2015_5E', 'CAMEO_DEU_2015_5F', 'CAMEO_DEU_2015_6A', 'CAMEO_DEU_2015_6B', 'CAMEO_DEU_2015_6C', 'CAMEO_DEU_2015_6D', 'CAMEO_DEU_2015_6E', 'CAMEO_DEU_2015_6F', 'CAMEO_DEU_2015_7A', 'CAMEO_DEU_2015_7B', 'CAMEO_DEU_2015_7C', 'CAMEO_DEU_2015_7D', 'CAMEO_DEU_2015_7E', 'CAMEO_DEU_2015_8A', 'CAMEO_DEU_2015_8B', 'CAMEO_DEU_2015_8C', 'CAMEO_DEU_2015_8D', 'CAMEO_DEU_2015_9A', 'CAMEO_DEU_2015_9B', 'CAMEO_DEU_2015_9C', 'CAMEO_DEU_2015_9D', 'CAMEO_DEU_2015_9E', 'CAMEO_DEUG_2015_1', 'CAMEO_DEUG_2015_2', 'CAMEO_DEUG_2015_3', 'CAMEO_DEUG_2015_4', 'CAMEO_DEUG_2015_5', 'CAMEO_DEUG_2015_6', 'CAMEO_DEUG_2015_7', 'CAMEO_DEUG_2015_8', 'CAMEO_DEUG_2015_9', 'GEBAEUDETYP_1.0', 'GEBAEUDETYP_2.0', 'GEBAEUDETYP_3.0', 'GEBAEUDETYP_4.0', 'GEBAEUDETYP_5.0', 'GEBAEUDETYP_6.0', 'GEBAEUDETYP_8.0', 'LP_FAMILIE_FEIN_1.0', 'LP_FAMILIE_FEIN_2.0', 'LP_FAMILIE_FEIN_3.0', 'LP_FAMILIE_FEIN_4.0', 'LP_FAMILIE_FEIN_5.0', 'LP_FAMILIE_FEIN_6.0', 'LP_FAMILIE_FEIN_7.0', 'LP_FAMILIE_FEIN_8.0', 'LP_FAMILIE_FEIN_9.0', 'LP_FAMILIE_FEIN_10.0', 'LP_FAMILIE_FEIN_11.0', 'LP_FAMILIE_GROB_1.0', 'LP_FAMILIE_GROB_2.0', 'LP_FAMILIE_GROB_3.0', 'LP_FAMILIE_GROB_4.0', 'LP_FAMILIE_GROB_5.0', 'GFK_URLAUBERTYP_1.0', 'GFK_URLAUBERTYP_2.0', 'GFK_URLAUBERTYP_3.0', 'GFK_URLAUBERTYP_4.0', 'GFK_URLAUBERTYP_5.0', 'GFK_URLAUBERTYP_6.0', 'GFK_URLAUBERTYP_7.0', 'GFK_URLAUBERTYP_8.0', 'GFK_URLAUBERTYP_9.0', 'GFK_URLAUBERTYP_10.0', 'GFK_URLAUBERTYP_11.0', 'GFK_URLAUBERTYP_12.0', 'CJT_GESAMTTYP_1.0', 'CJT_GESAMTTYP_2.0', 'CJT_GESAMTTYP_3.0', 'CJT_GESAMTTYP_4.0', 'CJT_GESAMTTYP_5.0', 'CJT_GESAMTTYP_6.0', 'LP_STATUS_FEIN_1.0', 'LP_STATUS_FEIN_2.0', 'LP_STATUS_FEIN_3.0', 'LP_STATUS_FEIN_4.0', 'LP_STATUS_FEIN_5.0', 'LP_STATUS_FEIN_6.0', 'LP_STATUS_FEIN_7.0', 'LP_STATUS_FEIN_8.0', 'LP_STATUS_FEIN_9.0', 'LP_STATUS_FEIN_10.0', 'LP_STATUS_GROB_1.0', 'LP_STATUS_GROB_2.0', 'LP_STATUS_GROB_3.0', 'LP_STATUS_GROB_4.0', 'LP_STATUS_GROB_5.0', 'FINANZTYP_1', 'FINANZTYP_2', 'FINANZTYP_3', 'FINANZTYP_4', 'FINANZTYP_5', 'FINANZTYP_6', 'ZABEOTYP_1', 'ZABEOTYP_2', 'ZABEOTYP_3', 'ZABEOTYP_4', 'ZABEOTYP_5', 'ZABEOTYP_6']\n"
     ]
    }
   ],
   "source": [
    "# Print encoded feature names\n",
    "print(encoded)"
   ]
  },
  {
   "cell_type": "markdown",
   "metadata": {},
   "source": [
    "#### Discussion 1.2.1: Re-Encode Categorical Features\n",
    "\n",
    "(Double-click this cell and replace this text with your own text, reporting your findings and decisions regarding categorical features. Which ones did you keep, which did you drop, and what engineering steps did you perform?)\n",
    "\n",
    "As suggested, I re-encoded the binary variable OST_WEST_KZ which had non-numeric values to distinguish between East and West Germany. The rest of the binary variables remained unchanged.\n",
    "\n",
    "In terms of the multi-level categorical features, I decided to perform the one-hot encoding. There is one particular feature CAMEO_DEU_2015 that has many levels as it describes the wealth/life stage typology in more detail. Although doing a one-hot encoding will result in many additional features being generated I don't think this will present a major issue ('curse of dimensionality) since I will be applying the PCA later on.\n",
    "\n",
    "I decided not to drop any additional features at this point."
   ]
  },
  {
   "cell_type": "markdown",
   "metadata": {},
   "source": [
    "#### Step 1.2.2: Engineer Mixed-Type Features\n",
    "\n",
    "There are a handful of features that are marked as \"mixed\" in the feature summary that require special treatment in order to be included in the analysis. There are two in particular that deserve attention; the handling of the rest are up to your own choices:\n",
    "- \"PRAEGENDE_JUGENDJAHRE\" combines information on three dimensions: generation by decade, movement (mainstream vs. avantgarde), and nation (east vs. west). While there aren't enough levels to disentangle east from west, you should create two new variables to capture the other two dimensions: an interval-type variable for decade, and a binary variable for movement.\n",
    "- \"CAMEO_INTL_2015\" combines information on two axes: wealth and life stage. Break up the two-digit codes by their 'tens'-place and 'ones'-place digits into two new ordinal variables (which, for the purposes of this project, is equivalent to just treating them as their raw numeric values).\n",
    "- If you decide to keep or engineer new features around the other mixed-type features, make sure you note your steps in the Discussion section.\n",
    "\n",
    "Be sure to check `Data_Dictionary.md` for the details needed to finish these tasks."
   ]
  },
  {
   "cell_type": "code",
   "execution_count": 31,
   "metadata": {},
   "outputs": [],
   "source": [
    "# Investigate \"PRAEGENDE_JUGENDJAHRE\" and engineer two new variables.\n",
    "values = [x+1 for x in range(15)]\n",
    "decades = [40, 40, 50, 50, 60, 60, 60, 70, 70, 80, 80, 80, 80, 90, 90]\n",
    "generation = pd.Series(decades, index = values)        \n",
    "        \n",
    "mainstream = [1, 3, 5, 8, 10, 12, 14]\n",
    "avantgarde = [2, 4, 6, 7, 9, 11, 13, 15]\n",
    "\n",
    "def get_movement(value):\n",
    "    if value in mainstream:\n",
    "        return 1\n",
    "    elif value in avantgarde:\n",
    "        return 0\n",
    "    else:\n",
    "        return value"
   ]
  },
  {
   "cell_type": "code",
   "execution_count": 32,
   "metadata": {},
   "outputs": [],
   "source": [
    "# Genereate 2 new features\n",
    "data_reduced['PRAEGENDE_JUGENDJAHRE_GEN'] = data_reduced['PRAEGENDE_JUGENDJAHRE'].map(generation)\n",
    "data_reduced['PRAEGENDE_JUGENDJAHRE_MOV'] = data_reduced['PRAEGENDE_JUGENDJAHRE'].apply(get_movement)\n"
   ]
  },
  {
   "cell_type": "code",
   "execution_count": 33,
   "metadata": {},
   "outputs": [
    {
     "data": {
      "text/html": [
       "<div>\n",
       "<style scoped>\n",
       "    .dataframe tbody tr th:only-of-type {\n",
       "        vertical-align: middle;\n",
       "    }\n",
       "\n",
       "    .dataframe tbody tr th {\n",
       "        vertical-align: top;\n",
       "    }\n",
       "\n",
       "    .dataframe thead th {\n",
       "        text-align: right;\n",
       "    }\n",
       "</style>\n",
       "<table border=\"1\" class=\"dataframe\">\n",
       "  <thead>\n",
       "    <tr style=\"text-align: right;\">\n",
       "      <th></th>\n",
       "      <th>PRAEGENDE_JUGENDJAHRE</th>\n",
       "      <th>PRAEGENDE_JUGENDJAHRE_GEN</th>\n",
       "      <th>PRAEGENDE_JUGENDJAHRE_MOV</th>\n",
       "    </tr>\n",
       "  </thead>\n",
       "  <tbody>\n",
       "    <tr>\n",
       "      <th>1</th>\n",
       "      <td>14.0</td>\n",
       "      <td>90.0</td>\n",
       "      <td>1.0</td>\n",
       "    </tr>\n",
       "    <tr>\n",
       "      <th>2</th>\n",
       "      <td>15.0</td>\n",
       "      <td>90.0</td>\n",
       "      <td>0.0</td>\n",
       "    </tr>\n",
       "    <tr>\n",
       "      <th>3</th>\n",
       "      <td>8.0</td>\n",
       "      <td>70.0</td>\n",
       "      <td>1.0</td>\n",
       "    </tr>\n",
       "    <tr>\n",
       "      <th>4</th>\n",
       "      <td>8.0</td>\n",
       "      <td>70.0</td>\n",
       "      <td>1.0</td>\n",
       "    </tr>\n",
       "    <tr>\n",
       "      <th>5</th>\n",
       "      <td>3.0</td>\n",
       "      <td>50.0</td>\n",
       "      <td>1.0</td>\n",
       "    </tr>\n",
       "    <tr>\n",
       "      <th>6</th>\n",
       "      <td>10.0</td>\n",
       "      <td>80.0</td>\n",
       "      <td>1.0</td>\n",
       "    </tr>\n",
       "    <tr>\n",
       "      <th>7</th>\n",
       "      <td>8.0</td>\n",
       "      <td>70.0</td>\n",
       "      <td>1.0</td>\n",
       "    </tr>\n",
       "    <tr>\n",
       "      <th>8</th>\n",
       "      <td>11.0</td>\n",
       "      <td>80.0</td>\n",
       "      <td>0.0</td>\n",
       "    </tr>\n",
       "    <tr>\n",
       "      <th>9</th>\n",
       "      <td>15.0</td>\n",
       "      <td>90.0</td>\n",
       "      <td>0.0</td>\n",
       "    </tr>\n",
       "    <tr>\n",
       "      <th>10</th>\n",
       "      <td>3.0</td>\n",
       "      <td>50.0</td>\n",
       "      <td>1.0</td>\n",
       "    </tr>\n",
       "  </tbody>\n",
       "</table>\n",
       "</div>"
      ],
      "text/plain": [
       "    PRAEGENDE_JUGENDJAHRE  PRAEGENDE_JUGENDJAHRE_GEN  \\\n",
       "1                    14.0                       90.0   \n",
       "2                    15.0                       90.0   \n",
       "3                     8.0                       70.0   \n",
       "4                     8.0                       70.0   \n",
       "5                     3.0                       50.0   \n",
       "6                    10.0                       80.0   \n",
       "7                     8.0                       70.0   \n",
       "8                    11.0                       80.0   \n",
       "9                    15.0                       90.0   \n",
       "10                    3.0                       50.0   \n",
       "\n",
       "    PRAEGENDE_JUGENDJAHRE_MOV  \n",
       "1                         1.0  \n",
       "2                         0.0  \n",
       "3                         1.0  \n",
       "4                         1.0  \n",
       "5                         1.0  \n",
       "6                         1.0  \n",
       "7                         1.0  \n",
       "8                         0.0  \n",
       "9                         0.0  \n",
       "10                        1.0  "
      ]
     },
     "execution_count": 33,
     "metadata": {},
     "output_type": "execute_result"
    }
   ],
   "source": [
    "# Quick to ensure that the conversion worked\n",
    "data_reduced.loc[0:10, ('PRAEGENDE_JUGENDJAHRE','PRAEGENDE_JUGENDJAHRE_GEN','PRAEGENDE_JUGENDJAHRE_MOV')]"
   ]
  },
  {
   "cell_type": "code",
   "execution_count": 34,
   "metadata": {},
   "outputs": [
    {
     "data": {
      "text/plain": [
       "(797077, 195)"
      ]
     },
     "execution_count": 34,
     "metadata": {},
     "output_type": "execute_result"
    }
   ],
   "source": [
    "# Remove the original feature 'PRAEGENDE_JUGENDJAHRE'\n",
    "data_reduced = data_reduced.drop('PRAEGENDE_JUGENDJAHRE', axis=1)\n",
    "data_reduced.shape"
   ]
  },
  {
   "cell_type": "code",
   "execution_count": 35,
   "metadata": {},
   "outputs": [],
   "source": [
    "# Investigate \"CAMEO_INTL_2015\" and engineer two new variables.\n",
    "def get_wealth(value):\n",
    "    if pd.isnull(value):\n",
    "        return value\n",
    "    else:\n",
    "        return int(str(value)[0])\n",
    "\n",
    "def get_lifestage(value):\n",
    "    if pd.isnull(value):\n",
    "        return value\n",
    "    else:\n",
    "        return int(str(value)[1])"
   ]
  },
  {
   "cell_type": "code",
   "execution_count": 36,
   "metadata": {},
   "outputs": [],
   "source": [
    "# Genereate 2 new features\n",
    "data_reduced['CAMEO_INTL_2015_WEALTH'] = data_reduced['CAMEO_INTL_2015'].apply(get_wealth)\n",
    "data_reduced['CAMEO_INTL_2015_LIFESTAGE'] = data_reduced['CAMEO_INTL_2015'].apply(get_lifestage)"
   ]
  },
  {
   "cell_type": "code",
   "execution_count": 37,
   "metadata": {},
   "outputs": [
    {
     "data": {
      "text/html": [
       "<div>\n",
       "<style scoped>\n",
       "    .dataframe tbody tr th:only-of-type {\n",
       "        vertical-align: middle;\n",
       "    }\n",
       "\n",
       "    .dataframe tbody tr th {\n",
       "        vertical-align: top;\n",
       "    }\n",
       "\n",
       "    .dataframe thead th {\n",
       "        text-align: right;\n",
       "    }\n",
       "</style>\n",
       "<table border=\"1\" class=\"dataframe\">\n",
       "  <thead>\n",
       "    <tr style=\"text-align: right;\">\n",
       "      <th></th>\n",
       "      <th>CAMEO_INTL_2015</th>\n",
       "      <th>CAMEO_INTL_2015_WEALTH</th>\n",
       "      <th>CAMEO_INTL_2015_LIFESTAGE</th>\n",
       "    </tr>\n",
       "  </thead>\n",
       "  <tbody>\n",
       "    <tr>\n",
       "      <th>1</th>\n",
       "      <td>51</td>\n",
       "      <td>5.0</td>\n",
       "      <td>1.0</td>\n",
       "    </tr>\n",
       "    <tr>\n",
       "      <th>2</th>\n",
       "      <td>24</td>\n",
       "      <td>2.0</td>\n",
       "      <td>4.0</td>\n",
       "    </tr>\n",
       "    <tr>\n",
       "      <th>3</th>\n",
       "      <td>12</td>\n",
       "      <td>1.0</td>\n",
       "      <td>2.0</td>\n",
       "    </tr>\n",
       "    <tr>\n",
       "      <th>4</th>\n",
       "      <td>43</td>\n",
       "      <td>4.0</td>\n",
       "      <td>3.0</td>\n",
       "    </tr>\n",
       "    <tr>\n",
       "      <th>5</th>\n",
       "      <td>54</td>\n",
       "      <td>5.0</td>\n",
       "      <td>4.0</td>\n",
       "    </tr>\n",
       "    <tr>\n",
       "      <th>6</th>\n",
       "      <td>22</td>\n",
       "      <td>2.0</td>\n",
       "      <td>2.0</td>\n",
       "    </tr>\n",
       "    <tr>\n",
       "      <th>7</th>\n",
       "      <td>14</td>\n",
       "      <td>1.0</td>\n",
       "      <td>4.0</td>\n",
       "    </tr>\n",
       "    <tr>\n",
       "      <th>8</th>\n",
       "      <td>13</td>\n",
       "      <td>1.0</td>\n",
       "      <td>3.0</td>\n",
       "    </tr>\n",
       "    <tr>\n",
       "      <th>9</th>\n",
       "      <td>15</td>\n",
       "      <td>1.0</td>\n",
       "      <td>5.0</td>\n",
       "    </tr>\n",
       "    <tr>\n",
       "      <th>10</th>\n",
       "      <td>51</td>\n",
       "      <td>5.0</td>\n",
       "      <td>1.0</td>\n",
       "    </tr>\n",
       "  </tbody>\n",
       "</table>\n",
       "</div>"
      ],
      "text/plain": [
       "   CAMEO_INTL_2015  CAMEO_INTL_2015_WEALTH  CAMEO_INTL_2015_LIFESTAGE\n",
       "1               51                     5.0                        1.0\n",
       "2               24                     2.0                        4.0\n",
       "3               12                     1.0                        2.0\n",
       "4               43                     4.0                        3.0\n",
       "5               54                     5.0                        4.0\n",
       "6               22                     2.0                        2.0\n",
       "7               14                     1.0                        4.0\n",
       "8               13                     1.0                        3.0\n",
       "9               15                     1.0                        5.0\n",
       "10              51                     5.0                        1.0"
      ]
     },
     "execution_count": 37,
     "metadata": {},
     "output_type": "execute_result"
    }
   ],
   "source": [
    "# Quick to ensure that the conversion worked\n",
    "data_reduced.loc[0:10, ('CAMEO_INTL_2015','CAMEO_INTL_2015_WEALTH','CAMEO_INTL_2015_LIFESTAGE')]"
   ]
  },
  {
   "cell_type": "code",
   "execution_count": 38,
   "metadata": {},
   "outputs": [
    {
     "data": {
      "text/plain": [
       "(797077, 196)"
      ]
     },
     "execution_count": 38,
     "metadata": {},
     "output_type": "execute_result"
    }
   ],
   "source": [
    "# Remove the original feature 'CAMEO_INTL_2015'\n",
    "data_reduced = data_reduced.drop('CAMEO_INTL_2015', axis=1)\n",
    "data_reduced.shape"
   ]
  },
  {
   "cell_type": "code",
   "execution_count": 39,
   "metadata": {},
   "outputs": [
    {
     "data": {
      "text/plain": [
       "(77, 6)"
      ]
     },
     "execution_count": 39,
     "metadata": {},
     "output_type": "execute_result"
    }
   ],
   "source": [
    "# Update the features info dataframe to drop above original mixed features\n",
    "feat_info_dropcols = feat_info_dropcols.drop(['PRAEGENDE_JUGENDJAHRE','CAMEO_INTL_2015'], axis=0)\n",
    "feat_info_dropcols.shape"
   ]
  },
  {
   "cell_type": "code",
   "execution_count": 40,
   "metadata": {},
   "outputs": [
    {
     "data": {
      "text/plain": [
       "PLZ8_BAUMAX             5\n",
       "LP_LEBENSPHASE_FEIN    40\n",
       "LP_LEBENSPHASE_GROB    12\n",
       "WOHNLAGE                8\n",
       "dtype: int64"
      ]
     },
     "execution_count": 40,
     "metadata": {},
     "output_type": "execute_result"
    }
   ],
   "source": [
    "# Review remaining mixed features\n",
    "mixed = feat_info_dropcols[feat_info_dropcols['type'] == 'mixed']['attribute'].values\n",
    "data_reduced[mixed].nunique()"
   ]
  },
  {
   "cell_type": "code",
   "execution_count": 41,
   "metadata": {},
   "outputs": [],
   "source": [
    "# Investigate PLZ8_BAUMAX - Most common building type within the PLZ8 region\n",
    "# 1: mainly 1-2 family homes\n",
    "# 2: mainly 3-5 family homes\n",
    "# 3: mainly 6-10 family homes\n",
    "# 4: mainly 10+ family homes\n",
    "# 5: mainly business buildings\n",
    "    \n",
    "# Convert into two new binary features to simply distinguish between family type and business type\n",
    "\n",
    "family = [1, 2, 3, 4]\n",
    "building = [5]\n",
    "\n",
    "def get_family(value):\n",
    "    if pd.isnull(value):\n",
    "        return value\n",
    "    elif value in family:\n",
    "        return 1\n",
    "    else:\n",
    "        return 0\n",
    "\n",
    "def get_business(value):\n",
    "    if pd.isnull(value):\n",
    "        return value\n",
    "    elif value in building:\n",
    "        return 1\n",
    "    else:\n",
    "        return 0"
   ]
  },
  {
   "cell_type": "code",
   "execution_count": 42,
   "metadata": {},
   "outputs": [],
   "source": [
    "# Genereate 2 new features\n",
    "data_reduced['PLZ8_BAUMAX_FAMILY'] = data_reduced['PLZ8_BAUMAX'].apply(get_family)\n",
    "data_reduced['PLZ8_BAUMAX_BUSINESS'] = data_reduced['PLZ8_BAUMAX'].apply(get_business)"
   ]
  },
  {
   "cell_type": "code",
   "execution_count": 43,
   "metadata": {},
   "outputs": [
    {
     "data": {
      "text/html": [
       "<div>\n",
       "<style scoped>\n",
       "    .dataframe tbody tr th:only-of-type {\n",
       "        vertical-align: middle;\n",
       "    }\n",
       "\n",
       "    .dataframe tbody tr th {\n",
       "        vertical-align: top;\n",
       "    }\n",
       "\n",
       "    .dataframe thead th {\n",
       "        text-align: right;\n",
       "    }\n",
       "</style>\n",
       "<table border=\"1\" class=\"dataframe\">\n",
       "  <thead>\n",
       "    <tr style=\"text-align: right;\">\n",
       "      <th></th>\n",
       "      <th>PLZ8_BAUMAX</th>\n",
       "      <th>PLZ8_BAUMAX_FAMILY</th>\n",
       "      <th>PLZ8_BAUMAX_BUSINESS</th>\n",
       "    </tr>\n",
       "  </thead>\n",
       "  <tbody>\n",
       "    <tr>\n",
       "      <th>50</th>\n",
       "      <td>1.0</td>\n",
       "      <td>1.0</td>\n",
       "      <td>0.0</td>\n",
       "    </tr>\n",
       "    <tr>\n",
       "      <th>51</th>\n",
       "      <td>1.0</td>\n",
       "      <td>1.0</td>\n",
       "      <td>0.0</td>\n",
       "    </tr>\n",
       "    <tr>\n",
       "      <th>52</th>\n",
       "      <td>5.0</td>\n",
       "      <td>0.0</td>\n",
       "      <td>1.0</td>\n",
       "    </tr>\n",
       "    <tr>\n",
       "      <th>55</th>\n",
       "      <td>3.0</td>\n",
       "      <td>1.0</td>\n",
       "      <td>0.0</td>\n",
       "    </tr>\n",
       "    <tr>\n",
       "      <th>56</th>\n",
       "      <td>1.0</td>\n",
       "      <td>1.0</td>\n",
       "      <td>0.0</td>\n",
       "    </tr>\n",
       "    <tr>\n",
       "      <th>57</th>\n",
       "      <td>2.0</td>\n",
       "      <td>1.0</td>\n",
       "      <td>0.0</td>\n",
       "    </tr>\n",
       "    <tr>\n",
       "      <th>58</th>\n",
       "      <td>1.0</td>\n",
       "      <td>1.0</td>\n",
       "      <td>0.0</td>\n",
       "    </tr>\n",
       "    <tr>\n",
       "      <th>59</th>\n",
       "      <td>3.0</td>\n",
       "      <td>1.0</td>\n",
       "      <td>0.0</td>\n",
       "    </tr>\n",
       "    <tr>\n",
       "      <th>60</th>\n",
       "      <td>4.0</td>\n",
       "      <td>1.0</td>\n",
       "      <td>0.0</td>\n",
       "    </tr>\n",
       "  </tbody>\n",
       "</table>\n",
       "</div>"
      ],
      "text/plain": [
       "    PLZ8_BAUMAX  PLZ8_BAUMAX_FAMILY  PLZ8_BAUMAX_BUSINESS\n",
       "50          1.0                 1.0                   0.0\n",
       "51          1.0                 1.0                   0.0\n",
       "52          5.0                 0.0                   1.0\n",
       "55          3.0                 1.0                   0.0\n",
       "56          1.0                 1.0                   0.0\n",
       "57          2.0                 1.0                   0.0\n",
       "58          1.0                 1.0                   0.0\n",
       "59          3.0                 1.0                   0.0\n",
       "60          4.0                 1.0                   0.0"
      ]
     },
     "execution_count": 43,
     "metadata": {},
     "output_type": "execute_result"
    }
   ],
   "source": [
    "# Quick check to ensure that the conversion worked\n",
    "data_reduced.loc[50:60, ('PLZ8_BAUMAX','PLZ8_BAUMAX_FAMILY','PLZ8_BAUMAX_BUSINESS')]"
   ]
  },
  {
   "cell_type": "code",
   "execution_count": 44,
   "metadata": {},
   "outputs": [
    {
     "data": {
      "text/plain": [
       "(797077, 197)"
      ]
     },
     "execution_count": 44,
     "metadata": {},
     "output_type": "execute_result"
    }
   ],
   "source": [
    "# Remove the original feature 'PLZ8_BAUMAX'\n",
    "data_reduced = data_reduced.drop('PLZ8_BAUMAX', axis=1)\n",
    "data_reduced.shape"
   ]
  },
  {
   "cell_type": "code",
   "execution_count": 45,
   "metadata": {},
   "outputs": [
    {
     "data": {
      "text/plain": [
       "3.0    249537\n",
       "7.0    169238\n",
       "4.0    135867\n",
       "2.0    100303\n",
       "5.0     74274\n",
       "1.0     43876\n",
       "8.0     17356\n",
       "0.0      6626\n",
       "Name: WOHNLAGE, dtype: int64"
      ]
     },
     "execution_count": 45,
     "metadata": {},
     "output_type": "execute_result"
    }
   ],
   "source": [
    "# Investigate WOHNLAGE - Neighborhood quality (or rural flag)\n",
    "# 0: no score calculated\n",
    "# 1: very good neighborhood\n",
    "# 2: good neighborhood\n",
    "# 3: average neighborhood\n",
    "# 4: poor neighborhood\n",
    "# 5: very poor neighborhood\n",
    "# 7: rural neighborhood\n",
    "# 8: new building in rural neighborhood\n",
    "\n",
    "data_reduced['WOHNLAGE'].value_counts()"
   ]
  },
  {
   "cell_type": "code",
   "execution_count": 46,
   "metadata": {},
   "outputs": [
    {
     "data": {
      "text/plain": [
       "3.0    256163\n",
       "4.0    210141\n",
       "7.0    186594\n",
       "2.0    144179\n",
       "Name: WOHNLAGE, dtype: int64"
      ]
     },
     "execution_count": 46,
     "metadata": {},
     "output_type": "execute_result"
    }
   ],
   "source": [
    "# Initial transformation steps:\n",
    "# Assign 0 values to the most frequent value (average neighborhood)\n",
    "# Combine 1 and 2 into a single category - 'good neighborhood'\n",
    "# Combine 4 and 5 into a single category - 'poor neighborhood'\n",
    "# Combine 7 and 8 into a single category - 'rural neighborhood'\n",
    "\n",
    "data_reduced.loc[:,'WOHNLAGE'].replace({0:3, 1:2, 5:4, 8:7}, inplace=True)\n",
    "\n",
    "# Quick check on above replacement\n",
    "data_reduced['WOHNLAGE'].value_counts()"
   ]
  },
  {
   "cell_type": "code",
   "execution_count": 47,
   "metadata": {},
   "outputs": [],
   "source": [
    "# Finally perform one-hot encoding on the updated categories\n",
    "data_reduced = pd.get_dummies(data_reduced, columns=['WOHNLAGE'])"
   ]
  },
  {
   "cell_type": "code",
   "execution_count": 48,
   "metadata": {},
   "outputs": [
    {
     "data": {
      "text/plain": [
       "1.0     58718\n",
       "5.0     52399\n",
       "6.0     43324\n",
       "2.0     37146\n",
       "8.0     28831\n",
       "11.0    25356\n",
       "7.0     24947\n",
       "29.0    24879\n",
       "13.0    24810\n",
       "10.0    24458\n",
       "31.0    22260\n",
       "12.0    22214\n",
       "30.0    21145\n",
       "15.0    18963\n",
       "3.0     18752\n",
       "19.0    18575\n",
       "37.0    17500\n",
       "4.0     16477\n",
       "14.0    16350\n",
       "20.0    16285\n",
       "32.0    15761\n",
       "39.0    15131\n",
       "40.0    14108\n",
       "27.0    13795\n",
       "16.0    13632\n",
       "38.0    13088\n",
       "35.0    13011\n",
       "34.0    12421\n",
       "9.0     12109\n",
       "21.0    11965\n",
       "28.0    11543\n",
       "24.0    11308\n",
       "25.0     9843\n",
       "36.0     9654\n",
       "23.0     8624\n",
       "22.0     6830\n",
       "18.0     6802\n",
       "33.0     5722\n",
       "17.0     5486\n",
       "26.0     3368\n",
       "Name: LP_LEBENSPHASE_FEIN, dtype: int64"
      ]
     },
     "execution_count": 48,
     "metadata": {},
     "output_type": "execute_result"
    }
   ],
   "source": [
    "# Investigate LP_LEBENSPHASE_FEIN -Life stage, fine scale \n",
    "# Life stage, fine scale\n",
    "# -  1: single low-income earners of younger age\n",
    "# -  2: single low-income earners of middle age\n",
    "# -  3: single average earners of younger age\n",
    "# -  4: single average earners of middle age\n",
    "# -  5: single low-income earners of advanced age\n",
    "# -  6: single low-income earners at retirement age\n",
    "# -  7: single average earners of advanced age\n",
    "# -  8: single average earners at retirement age\n",
    "# -  9: single independent persons\n",
    "# - 10: wealthy single homeowners\n",
    "# - 11: single homeowners of advanced age\n",
    "# - 12: single homeowners at retirement age\n",
    "# - 13: single top earners of higher age\n",
    "# - 14: low-income and average earner couples of younger age\n",
    "# - 15: low-income earner couples of higher age\n",
    "# - 16: average earner couples of higher age\n",
    "# - 17: independent couples\n",
    "# - 18: wealthy homeowner couples of younger age\n",
    "# - 19: homeowner couples of higher age\n",
    "# - 20: top earner couples of higher age\n",
    "# - 21: single parent low-income earners\n",
    "# - 22: single parent average earners\n",
    "# - 23: single parent high-income earners\n",
    "# - 24: low-income earner families\n",
    "# - 25: average earner families\n",
    "# - 26: independent families\n",
    "# - 27: homeowner families\n",
    "# - 28: top earner families\n",
    "# - 29: low-income earners of younger age from multiperson households\n",
    "# - 30: average earners of younger age from multiperson households\n",
    "# - 31: low-income earners of higher age from multiperson households\n",
    "# - 32: average earners of higher age from multiperson households\n",
    "# - 33: independent persons of younger age from multiperson households\n",
    "# - 34: homeowners of younger age from multiperson households\n",
    "# - 35: top earners of younger age from multiperson households\n",
    "# - 36: independent persons of higher age from multiperson households\n",
    "# - 37: homeowners of advanced age from multiperson households\n",
    "# - 38: homeowners at retirement age from multiperson households\n",
    "# - 39: top earners of middle age from multiperson households\n",
    "# - 40: top earners at retirement age from multiperson households\n",
    "    \n",
    "data_reduced['LP_LEBENSPHASE_FEIN'].value_counts()"
   ]
  },
  {
   "cell_type": "code",
   "execution_count": 49,
   "metadata": {},
   "outputs": [
    {
     "data": {
      "text/plain": [
       "2.0     149501\n",
       "1.0     131093\n",
       "3.0     109528\n",
       "12.0     69481\n",
       "4.0      51172\n",
       "5.0      47148\n",
       "9.0      46024\n",
       "10.0     38021\n",
       "11.0     31154\n",
       "8.0      28706\n",
       "6.0      27419\n",
       "7.0      21151\n",
       "Name: LP_LEBENSPHASE_GROB, dtype: int64"
      ]
     },
     "execution_count": 49,
     "metadata": {},
     "output_type": "execute_result"
    }
   ],
   "source": [
    "# Investigate LP_LEBENSPHASE_GROB - Life stage, rough scale\n",
    "# Life stage, rough scale\n",
    "# -  1: single low-income and average earners of younger age\n",
    "# -  2: single low-income and average earners of higher age\n",
    "# -  3: single high-income earners\n",
    "# -  4: single low-income and average-earner couples\n",
    "# -  5: single high-income earner couples\n",
    "# -  6: single parents\n",
    "# -  7: single low-income and average earner families\n",
    "# -  8: high-income earner families\n",
    "# -  9: average earners of younger age from multiperson households\n",
    "# - 10: low-income and average earners of higher age from multiperson households\n",
    "# - 11: high-income earners of younger age from multiperson households\n",
    "# - 12: high-income earners of higher age from multiperson households\n",
    "\n",
    "data_reduced['LP_LEBENSPHASE_GROB'].value_counts()"
   ]
  },
  {
   "cell_type": "code",
   "execution_count": 50,
   "metadata": {},
   "outputs": [],
   "source": [
    "# The categories under each of the above two features LP_LEBENSPHASE_FEIN & LP_LEBENSPHASE_GROB are quite specific.\n",
    "# It is difficult to perform any grouping.\n",
    "# Since these 2 features are highly correlated, I will drop the one with higher number of categories and keep the other one\n",
    "# for one-hot encoding.\n",
    "\n",
    "# Drop LP_LEBENSPHASE_FEIN\n",
    "data_reduced = data_reduced.drop('LP_LEBENSPHASE_FEIN', axis=1)\n",
    "\n",
    "# One-hot encode LP_LEBENSPHASE_GROB\n",
    "data_reduced = pd.get_dummies(data_reduced, columns=['LP_LEBENSPHASE_GROB'])"
   ]
  },
  {
   "cell_type": "code",
   "execution_count": 51,
   "metadata": {},
   "outputs": [
    {
     "data": {
      "text/plain": [
       "(76, 6)"
      ]
     },
     "execution_count": 51,
     "metadata": {},
     "output_type": "execute_result"
    }
   ],
   "source": [
    "# Update the features info dataframe to drop above original mixed feature\n",
    "feat_info_dropcols = feat_info_dropcols.drop(['LP_LEBENSPHASE_FEIN'], axis=0)\n",
    "feat_info_dropcols.shape"
   ]
  },
  {
   "cell_type": "code",
   "execution_count": 52,
   "metadata": {},
   "outputs": [
    {
     "name": "stdout",
     "output_type": "stream",
     "text": [
      "210 total features after one-hot encoding.\n"
     ]
    }
   ],
   "source": [
    "# Print the number of features after one-hot encoding\n",
    "encoded = list(data_reduced.columns)\n",
    "print(\"{} total features after one-hot encoding.\".format(len(encoded)))"
   ]
  },
  {
   "cell_type": "code",
   "execution_count": 53,
   "metadata": {},
   "outputs": [
    {
     "name": "stdout",
     "output_type": "stream",
     "text": [
      "['ALTERSKATEGORIE_GROB', 'ANREDE_KZ', 'FINANZ_MINIMALIST', 'FINANZ_SPARER', 'FINANZ_VORSORGER', 'FINANZ_ANLEGER', 'FINANZ_UNAUFFAELLIGER', 'FINANZ_HAUSBAUER', 'GREEN_AVANTGARDE', 'HEALTH_TYP', 'RETOURTYP_BK_S', 'SEMIO_SOZ', 'SEMIO_FAM', 'SEMIO_REL', 'SEMIO_MAT', 'SEMIO_VERT', 'SEMIO_LUST', 'SEMIO_ERL', 'SEMIO_KULT', 'SEMIO_RAT', 'SEMIO_KRIT', 'SEMIO_DOM', 'SEMIO_KAEM', 'SEMIO_PFLICHT', 'SEMIO_TRADV', 'SOHO_KZ', 'VERS_TYP', 'ANZ_PERSONEN', 'ANZ_TITEL', 'HH_EINKOMMEN_SCORE', 'W_KEIT_KIND_HH', 'WOHNDAUER_2008', 'ANZ_HAUSHALTE_AKTIV', 'ANZ_HH_TITEL', 'KONSUMNAEHE', 'MIN_GEBAEUDEJAHR', 'OST_WEST_KZ', 'KBA05_ANTG1', 'KBA05_ANTG2', 'KBA05_ANTG3', 'KBA05_ANTG4', 'KBA05_GBZ', 'BALLRAUM', 'EWDICHTE', 'INNENSTADT', 'GEBAEUDETYP_RASTER', 'KKK', 'MOBI_REGIO', 'ONLINE_AFFINITAET', 'REGIOTYP', 'KBA13_ANZAHL_PKW', 'PLZ8_ANTG1', 'PLZ8_ANTG2', 'PLZ8_ANTG3', 'PLZ8_ANTG4', 'PLZ8_HHZ', 'PLZ8_GBZ', 'ARBEIT', 'ORTSGR_KLS9', 'RELAT_AB', 'SHOPPER_TYP_0.0', 'SHOPPER_TYP_1.0', 'SHOPPER_TYP_2.0', 'SHOPPER_TYP_3.0', 'NATIONALITAET_KZ_1.0', 'NATIONALITAET_KZ_2.0', 'NATIONALITAET_KZ_3.0', 'CAMEO_DEU_2015_1A', 'CAMEO_DEU_2015_1B', 'CAMEO_DEU_2015_1C', 'CAMEO_DEU_2015_1D', 'CAMEO_DEU_2015_1E', 'CAMEO_DEU_2015_2A', 'CAMEO_DEU_2015_2B', 'CAMEO_DEU_2015_2C', 'CAMEO_DEU_2015_2D', 'CAMEO_DEU_2015_3A', 'CAMEO_DEU_2015_3B', 'CAMEO_DEU_2015_3C', 'CAMEO_DEU_2015_3D', 'CAMEO_DEU_2015_4A', 'CAMEO_DEU_2015_4B', 'CAMEO_DEU_2015_4C', 'CAMEO_DEU_2015_4D', 'CAMEO_DEU_2015_4E', 'CAMEO_DEU_2015_5A', 'CAMEO_DEU_2015_5B', 'CAMEO_DEU_2015_5C', 'CAMEO_DEU_2015_5D', 'CAMEO_DEU_2015_5E', 'CAMEO_DEU_2015_5F', 'CAMEO_DEU_2015_6A', 'CAMEO_DEU_2015_6B', 'CAMEO_DEU_2015_6C', 'CAMEO_DEU_2015_6D', 'CAMEO_DEU_2015_6E', 'CAMEO_DEU_2015_6F', 'CAMEO_DEU_2015_7A', 'CAMEO_DEU_2015_7B', 'CAMEO_DEU_2015_7C', 'CAMEO_DEU_2015_7D', 'CAMEO_DEU_2015_7E', 'CAMEO_DEU_2015_8A', 'CAMEO_DEU_2015_8B', 'CAMEO_DEU_2015_8C', 'CAMEO_DEU_2015_8D', 'CAMEO_DEU_2015_9A', 'CAMEO_DEU_2015_9B', 'CAMEO_DEU_2015_9C', 'CAMEO_DEU_2015_9D', 'CAMEO_DEU_2015_9E', 'CAMEO_DEUG_2015_1', 'CAMEO_DEUG_2015_2', 'CAMEO_DEUG_2015_3', 'CAMEO_DEUG_2015_4', 'CAMEO_DEUG_2015_5', 'CAMEO_DEUG_2015_6', 'CAMEO_DEUG_2015_7', 'CAMEO_DEUG_2015_8', 'CAMEO_DEUG_2015_9', 'GEBAEUDETYP_1.0', 'GEBAEUDETYP_2.0', 'GEBAEUDETYP_3.0', 'GEBAEUDETYP_4.0', 'GEBAEUDETYP_5.0', 'GEBAEUDETYP_6.0', 'GEBAEUDETYP_8.0', 'LP_FAMILIE_FEIN_1.0', 'LP_FAMILIE_FEIN_2.0', 'LP_FAMILIE_FEIN_3.0', 'LP_FAMILIE_FEIN_4.0', 'LP_FAMILIE_FEIN_5.0', 'LP_FAMILIE_FEIN_6.0', 'LP_FAMILIE_FEIN_7.0', 'LP_FAMILIE_FEIN_8.0', 'LP_FAMILIE_FEIN_9.0', 'LP_FAMILIE_FEIN_10.0', 'LP_FAMILIE_FEIN_11.0', 'LP_FAMILIE_GROB_1.0', 'LP_FAMILIE_GROB_2.0', 'LP_FAMILIE_GROB_3.0', 'LP_FAMILIE_GROB_4.0', 'LP_FAMILIE_GROB_5.0', 'GFK_URLAUBERTYP_1.0', 'GFK_URLAUBERTYP_2.0', 'GFK_URLAUBERTYP_3.0', 'GFK_URLAUBERTYP_4.0', 'GFK_URLAUBERTYP_5.0', 'GFK_URLAUBERTYP_6.0', 'GFK_URLAUBERTYP_7.0', 'GFK_URLAUBERTYP_8.0', 'GFK_URLAUBERTYP_9.0', 'GFK_URLAUBERTYP_10.0', 'GFK_URLAUBERTYP_11.0', 'GFK_URLAUBERTYP_12.0', 'CJT_GESAMTTYP_1.0', 'CJT_GESAMTTYP_2.0', 'CJT_GESAMTTYP_3.0', 'CJT_GESAMTTYP_4.0', 'CJT_GESAMTTYP_5.0', 'CJT_GESAMTTYP_6.0', 'LP_STATUS_FEIN_1.0', 'LP_STATUS_FEIN_2.0', 'LP_STATUS_FEIN_3.0', 'LP_STATUS_FEIN_4.0', 'LP_STATUS_FEIN_5.0', 'LP_STATUS_FEIN_6.0', 'LP_STATUS_FEIN_7.0', 'LP_STATUS_FEIN_8.0', 'LP_STATUS_FEIN_9.0', 'LP_STATUS_FEIN_10.0', 'LP_STATUS_GROB_1.0', 'LP_STATUS_GROB_2.0', 'LP_STATUS_GROB_3.0', 'LP_STATUS_GROB_4.0', 'LP_STATUS_GROB_5.0', 'FINANZTYP_1', 'FINANZTYP_2', 'FINANZTYP_3', 'FINANZTYP_4', 'FINANZTYP_5', 'FINANZTYP_6', 'ZABEOTYP_1', 'ZABEOTYP_2', 'ZABEOTYP_3', 'ZABEOTYP_4', 'ZABEOTYP_5', 'ZABEOTYP_6', 'PRAEGENDE_JUGENDJAHRE_GEN', 'PRAEGENDE_JUGENDJAHRE_MOV', 'CAMEO_INTL_2015_WEALTH', 'CAMEO_INTL_2015_LIFESTAGE', 'PLZ8_BAUMAX_FAMILY', 'PLZ8_BAUMAX_BUSINESS', 'WOHNLAGE_2.0', 'WOHNLAGE_3.0', 'WOHNLAGE_4.0', 'WOHNLAGE_7.0', 'LP_LEBENSPHASE_GROB_1.0', 'LP_LEBENSPHASE_GROB_2.0', 'LP_LEBENSPHASE_GROB_3.0', 'LP_LEBENSPHASE_GROB_4.0', 'LP_LEBENSPHASE_GROB_5.0', 'LP_LEBENSPHASE_GROB_6.0', 'LP_LEBENSPHASE_GROB_7.0', 'LP_LEBENSPHASE_GROB_8.0', 'LP_LEBENSPHASE_GROB_9.0', 'LP_LEBENSPHASE_GROB_10.0', 'LP_LEBENSPHASE_GROB_11.0', 'LP_LEBENSPHASE_GROB_12.0']\n"
     ]
    }
   ],
   "source": [
    "# Print encoded feature names\n",
    "print(encoded)"
   ]
  },
  {
   "cell_type": "markdown",
   "metadata": {},
   "source": [
    "#### Discussion 1.2.2: Engineer Mixed-Type Features\n",
    "\n",
    "(Double-click this cell and replace this text with your own text, reporting your findings and decisions regarding mixed-value features. Which ones did you keep, which did you drop, and what engineering steps did you perform?)\n",
    "\n",
    "As suggested on the project, I performed the transformations to the features named PRAEGENDE_JUGENDJAHRE and CAMEO_INTL_2015. These features had a clear way of separating its mixed values in order to get new features.\n",
    "\n",
    "The next mixed feature I analized was PLZ8_BAUMAX - which refers to the most common building type within the PLZ8 region. On this feature, we can make a distinction between family and business building types. Although we will lose visiblity on the size of the family buildings, we can still make use of some of the information contained on this feature. Two new binary variables were created.\n",
    "\n",
    "The other feature considered was WOHNLAGE - which refers to the quality of the neighborhood (or rural flag). If we look at the frequency per category value, it seems reasonable to group some of these values and then perform a one-hot encoding to create new binary variables. I decided to group some categories because they had very low frequency and if I would create a binary variable out of those then I would end up with a feature having mainly 0's and a few 1's - which is not going to help that much for clustering or any sort of analyses. So, the following categories were grouped together before one-hot encoding: \"good and very good\", \"poor and very poor\", and finally \"rural and new building in rural neighborhood\". Also, I replaced the 'no score calculated' with the most frequent category (average neighborhood).\n",
    "\n",
    "Finally, I examined the LP_LEBENSPHASE_FEIN -life stage, fine scale- and LP_LEBENSPHASE_GROB -life stage, rough scale. The categories under these two features are quite specific and it is hard to perform any grouping or transformation into them. Having said this, I decided to perform a one-hot encoding transformation. Since these features are highly correlated (see correlation heatmap plotted in previous section), it makes sense to drop the feature with the higher number of categories and just keep the other one. This will avoid increasing the number of freatures in our data set unnecessarily after doing the one-hot encoding.\n"
   ]
  },
  {
   "cell_type": "markdown",
   "metadata": {},
   "source": [
    "#### Step 1.2.3: Complete Feature Selection\n",
    "\n",
    "In order to finish this step up, you need to make sure that your data frame now only has the columns that you want to keep. To summarize, the dataframe should consist of the following:\n",
    "- All numeric, interval, and ordinal type columns from the original dataset.\n",
    "- Binary categorical features (all numerically-encoded).\n",
    "- Engineered features from other multi-level categorical features and mixed features.\n",
    "\n",
    "Make sure that for any new columns that you have engineered, that you've excluded the original columns from the final dataset. Otherwise, their values will interfere with the analysis later on the project. For example, you should not keep \"PRAEGENDE_JUGENDJAHRE\", since its values won't be useful for the algorithm: only the values derived from it in the engineered features you created should be retained. As a reminder, your data should only be from **the subset with few or no missing values**."
   ]
  },
  {
   "cell_type": "code",
   "execution_count": null,
   "metadata": {},
   "outputs": [],
   "source": [
    "# If there are other re-engineering tasks you need to perform, make sure you\n",
    "# take care of them here. (Dealing with missing data will come in step 2.1.)\n",
    "\n"
   ]
  },
  {
   "cell_type": "code",
   "execution_count": null,
   "metadata": {},
   "outputs": [],
   "source": [
    "# Do whatever you need to in order to ensure that the dataframe only contains\n",
    "# the columns that should be passed to the algorithm functions.\n",
    "\n"
   ]
  },
  {
   "cell_type": "markdown",
   "metadata": {},
   "source": [
    "### Step 1.3: Create a Cleaning Function\n",
    "\n",
    "Even though you've finished cleaning up the general population demographics data, it's important to look ahead to the future and realize that you'll need to perform the same cleaning steps on the customer demographics data. In this substep, complete the function below to execute the main feature selection, encoding, and re-engineering steps you performed above. Then, when it comes to looking at the customer data in Step 3, you can just run this function on that DataFrame to get the trimmed dataset in a single step."
   ]
  },
  {
   "cell_type": "code",
   "execution_count": 54,
   "metadata": {},
   "outputs": [],
   "source": [
    "def clean_data(df):\n",
    "    \"\"\"\n",
    "    Perform feature trimming, re-encoding, and engineering for demographics\n",
    "    data\n",
    "    \n",
    "    INPUT: Demographics DataFrame\n",
    "    OUTPUT: Trimmed and cleaned demographics DataFrame\n",
    "    \"\"\"\n",
    "    \n",
    "    feat_info = pd.read_csv('AZDIAS_Feature_Summary.csv',sep=';')\n",
    "    \n",
    "    # convert string of unknown data into a list\n",
    "    feat_info.missing_or_unknown = feat_info.missing_or_unknown.str.strip('[]').str.split(',')\n",
    "\n",
    "    # replace unknown data with nan\n",
    "    for i in range(len(feat_info)):\n",
    "        for j in range(len(feat_info['missing_or_unknown'][i])):\n",
    "            if feat_info['missing_or_unknown'][i][j] not in ['','X','XX']:\n",
    "                feat_info['missing_or_unknown'][i][j] = int(feat_info['missing_or_unknown'][i][j])\n",
    "        df.loc[:, feat_info['attribute'][i]].replace(feat_info['missing_or_unknown'][i], np.nan, inplace=True)\n",
    "    \n",
    "    # Remove columns based on analysis previously done (more than %25 of NaNs)\n",
    "    df_dropcols = df.drop(dropcolnames, axis=1)\n",
    "    \n",
    "    df_nan_dropcols = df_nan_col.drop(dropcolnames, axis=0)\n",
    "    feat_info_dropcols = df_nan_dropcols.reset_index().merge(feat_info, how='left').set_index('index')\n",
    "    \n",
    "    # Remove any rows with high proportion of NaNs per row\n",
    "    na_countperrow = df_dropcols.isnull().sum(axis=1)\n",
    "    data_reduced = df_dropcols[na_countperrow < split_value]\n",
    "    \n",
    "    # Re-encode categorical features\n",
    "    categorical = feat_info_dropcols[feat_info_dropcols['type'] == 'categorical']['attribute'].values\n",
    "    multilevel = [x for x in categorical if data_reduced[x].nunique()>2]\n",
    "    data_reduced = pd.get_dummies(data_reduced, columns=multilevel)\n",
    "    \n",
    "    # Re-encode OST_WEST_KZ\n",
    "    data_reduced.loc[:, 'OST_WEST_KZ'].replace({'W':0, 'O':1}, inplace=True)\n",
    "    \n",
    "    # Re-encode PRAEGENDE_JUGENDJAHRE\n",
    "    values = [x+1 for x in range(15)]\n",
    "    decades = [40, 40, 50, 50, 60, 60, 60, 70, 70, 80, 80, 80, 80, 90, 90]\n",
    "    generation = pd.Series(decades, index = values)   \n",
    "\n",
    "    mainstream = [1, 3, 5, 8, 10, 12, 14]\n",
    "    avantgarde = [2, 4, 6, 7, 9, 11, 13, 15]\n",
    "\n",
    "    def get_movement(value):\n",
    "        if value in mainstream:\n",
    "            return 1\n",
    "        elif value in avantgarde:\n",
    "            return 0\n",
    "        else:\n",
    "            return value\n",
    "    \n",
    "    data_reduced['PRAEGENDE_JUGENDJAHRE_GEN'] = data_reduced['PRAEGENDE_JUGENDJAHRE'].map(generation)\n",
    "    data_reduced['PRAEGENDE_JUGENDJAHRE_MOV'] = data_reduced['PRAEGENDE_JUGENDJAHRE'].apply(get_movement)\n",
    "    data_reduced = data_reduced.drop('PRAEGENDE_JUGENDJAHRE', axis=1)\n",
    "    \n",
    "    # Re-encode CAMEO_INTL_2015\n",
    "    def get_wealth(value):\n",
    "        if pd.isnull(value):\n",
    "            return value\n",
    "        else:\n",
    "            return int(str(value)[0])\n",
    "\n",
    "    def get_lifestage(value):\n",
    "        if pd.isnull(value):\n",
    "            return value\n",
    "        else:\n",
    "            return int(str(value)[1])\n",
    "    \n",
    "    data_reduced['CAMEO_INTL_2015_WEALTH'] = data_reduced['CAMEO_INTL_2015'].apply(get_wealth)\n",
    "    data_reduced['CAMEO_INTL_2015_LIFESTAGE'] = data_reduced['CAMEO_INTL_2015'].apply(get_lifestage)\n",
    "    data_reduced = data_reduced.drop('CAMEO_INTL_2015', axis=1)\n",
    "    \n",
    "    # Re-encode PLZ8_BAUMAX\n",
    "    family = [1, 2, 3, 4]\n",
    "    building = [5]\n",
    "\n",
    "    def get_family(value):\n",
    "        if pd.isnull(value):\n",
    "            return value\n",
    "        elif value in family:\n",
    "            return 1\n",
    "        else:\n",
    "            return 0\n",
    "\n",
    "    def get_business(value):\n",
    "        if pd.isnull(value):\n",
    "            return value\n",
    "        elif value in building:\n",
    "            return 1\n",
    "        else:\n",
    "            return 0\n",
    "    \n",
    "    data_reduced['PLZ8_BAUMAX_FAMILY'] = data_reduced['PLZ8_BAUMAX'].apply(get_family)\n",
    "    data_reduced['PLZ8_BAUMAX_BUSINESS'] = data_reduced['PLZ8_BAUMAX'].apply(get_business)\n",
    "    data_reduced = data_reduced.drop('PLZ8_BAUMAX', axis=1)\n",
    "    \n",
    "    # Re-encode WOHNLAGE\n",
    "    data_reduced.loc[:,'WOHNLAGE'].replace({0:3, 1:2, 5:4, 8:7}, inplace=True)\n",
    "    data_reduced = pd.get_dummies(data_reduced, columns=['WOHNLAGE'])\n",
    "    \n",
    "    # Drop LP_LEBENSPHASE_FEIN\n",
    "    data_reduced = data_reduced.drop('LP_LEBENSPHASE_FEIN', axis=1)\n",
    "\n",
    "    # Re-encode LP_LEBENSPHASE_GROB\n",
    "    data_reduced = pd.get_dummies(data_reduced, columns=['LP_LEBENSPHASE_GROB'])\n",
    "    \n",
    "    # Drop GEBAEUDETYP_5.0 if generated before since this is not present on the customers dataset\n",
    "    # See \"Discussion Point\" added below\n",
    "    if 'GEBAEUDETYP_5.0' in data_reduced:\n",
    "        data_reduced = data_reduced.drop('GEBAEUDETYP_5.0', axis=1)\n",
    "    \n",
    "    return data_reduced"
   ]
  },
  {
   "cell_type": "code",
   "execution_count": 55,
   "metadata": {},
   "outputs": [],
   "source": [
    "# Apply the clean_data function\n",
    "df = pd.read_csv('Udacity_AZDIAS_Subset.csv',sep=';')\n",
    "azdias_clean_data = clean_data(df)"
   ]
  },
  {
   "cell_type": "code",
   "execution_count": 56,
   "metadata": {},
   "outputs": [
    {
     "data": {
      "text/plain": [
       "(797077, 209)"
      ]
     },
     "execution_count": 56,
     "metadata": {},
     "output_type": "execute_result"
    }
   ],
   "source": [
    "# Quick check to confirm the clean_data function is giving the correct shape\n",
    "azdias_clean_data.shape"
   ]
  },
  {
   "cell_type": "code",
   "execution_count": 57,
   "metadata": {},
   "outputs": [
    {
     "data": {
      "text/plain": [
       "(797077, 210)"
      ]
     },
     "execution_count": 57,
     "metadata": {},
     "output_type": "execute_result"
    }
   ],
   "source": [
    "# Quick check to confirm the clean_data function is giving the correct shape\n",
    "data_reduced.shape"
   ]
  },
  {
   "cell_type": "code",
   "execution_count": 58,
   "metadata": {},
   "outputs": [
    {
     "data": {
      "text/plain": [
       "True"
      ]
     },
     "execution_count": 58,
     "metadata": {},
     "output_type": "execute_result"
    }
   ],
   "source": [
    "azdias_clean_data.isnull().values.any()"
   ]
  },
  {
   "cell_type": "markdown",
   "metadata": {},
   "source": [
    "__Discussion Point:__  \n",
    "\n",
    "By the time I reached the point when I had to apply the above clean_data() function into the customers dataset, I noticed that the shape of the resulting customer dataframe was (115643, 209). However, I was expecting for the customers cleaned dataset to have 210 features, i.e. the same number of features as in the azdias demographics dataset.\n",
    "\n",
    "After doing some investigation, I realized that this occurred because the azdias and the customers datasets don't have the same unique values for all the categorical variables. In particular, the customers dataset doesn't have a value of 5 under the GEBAEUDETYP feature - which is used to identify company buildings. This was the reason why the customers dataset had 1 less feature. \n",
    "\n",
    "Having said this, I decided to drop this dummy feature as it doesn't seem that relevant. To do this, I added an additional check at the end of the data_clean() function. This also explains why the shape of the data_reduced dataframe has 1 extra feature in compared to the azdias_clean_data shape resulting from the clean_data() function."
   ]
  },
  {
   "cell_type": "markdown",
   "metadata": {},
   "source": [
    "## Step 2: Feature Transformation\n",
    "\n",
    "### Step 2.1: Apply Feature Scaling\n",
    "\n",
    "Before we apply dimensionality reduction techniques to the data, we need to perform feature scaling so that the principal component vectors are not influenced by the natural differences in scale for features. Starting from this part of the project, you'll want to keep an eye on the [API reference page for sklearn](http://scikit-learn.org/stable/modules/classes.html) to help you navigate to all of the classes and functions that you'll need. In this substep, you'll need to check the following:\n",
    "\n",
    "- sklearn requires that data not have missing values in order for its estimators to work properly. So, before applying the scaler to your data, make sure that you've cleaned the DataFrame of the remaining missing values. This can be as simple as just removing all data points with missing data, or applying an [Imputer](http://scikit-learn.org/stable/modules/generated/sklearn.preprocessing.Imputer.html) to replace all missing values. You might also try a more complicated procedure where you temporarily remove missing values in order to compute the scaling parameters before re-introducing those missing values and applying imputation. Think about how much missing data you have and what possible effects each approach might have on your analysis, and justify your decision in the discussion section below.\n",
    "- For the actual scaling function, a [StandardScaler](http://scikit-learn.org/stable/modules/generated/sklearn.preprocessing.StandardScaler.html) instance is suggested, scaling each feature to mean 0 and standard deviation 1.\n",
    "- For these classes, you can make use of the `.fit_transform()` method to both fit a procedure to the data as well as apply the transformation to the data at the same time. Don't forget to keep the fit sklearn objects handy, since you'll be applying them to the customer demographics data towards the end of the project."
   ]
  },
  {
   "cell_type": "code",
   "execution_count": 59,
   "metadata": {},
   "outputs": [],
   "source": [
    "# If you've not yet cleaned the dataset of all NaN values, then investigate and\n",
    "# do that now.\n",
    "imputer = Imputer()\n",
    "azdias_clean_data = pd.DataFrame(imputer.fit_transform(azdias_clean_data), columns = azdias_clean_data.columns)"
   ]
  },
  {
   "cell_type": "code",
   "execution_count": 60,
   "metadata": {},
   "outputs": [
    {
     "data": {
      "text/plain": [
       "False"
      ]
     },
     "execution_count": 60,
     "metadata": {},
     "output_type": "execute_result"
    }
   ],
   "source": [
    "# Quick check to confirm there are no missing values\n",
    "azdias_clean_data.isnull().values.any()"
   ]
  },
  {
   "cell_type": "code",
   "execution_count": 61,
   "metadata": {},
   "outputs": [],
   "source": [
    "# Apply feature scaling to the general population demographics data.\n",
    "scaler = StandardScaler()\n",
    "azdias_scaled_data = scaler.fit_transform(azdias_clean_data)"
   ]
  },
  {
   "cell_type": "markdown",
   "metadata": {},
   "source": [
    "### Discussion 2.1: Apply Feature Scaling\n",
    "\n",
    "(Double-click this cell and replace this text with your own text, reporting your decisions regarding feature scaling.)\n",
    "\n",
    "I decided to use the Imputer() function to replace all missing values and then to apply the StandardScaler()."
   ]
  },
  {
   "cell_type": "markdown",
   "metadata": {},
   "source": [
    "### Step 2.2: Perform Dimensionality Reduction\n",
    "\n",
    "On your scaled data, you are now ready to apply dimensionality reduction techniques.\n",
    "\n",
    "- Use sklearn's [PCA](http://scikit-learn.org/stable/modules/generated/sklearn.decomposition.PCA.html) class to apply principal component analysis on the data, thus finding the vectors of maximal variance in the data. To start, you should not set any parameters (so all components are computed) or set a number of components that is at least half the number of features (so there's enough features to see the general trend in variability).\n",
    "- Check out the ratio of variance explained by each principal component as well as the cumulative variance explained. Try plotting the cumulative or sequential values using matplotlib's [`plot()`](https://matplotlib.org/api/_as_gen/matplotlib.pyplot.plot.html) function. Based on what you find, select a value for the number of transformed features you'll retain for the clustering part of the project.\n",
    "- Once you've made a choice for the number of components to keep, make sure you re-fit a PCA instance to perform the decided-on transformation."
   ]
  },
  {
   "cell_type": "code",
   "execution_count": 62,
   "metadata": {},
   "outputs": [],
   "source": [
    "# Apply PCA to the data.\n",
    "pca = PCA()\n",
    "azdias_pca = pca.fit_transform(azdias_scaled_data)"
   ]
  },
  {
   "cell_type": "code",
   "execution_count": 63,
   "metadata": {},
   "outputs": [],
   "source": [
    "# Investigate the variance accounted for by each principal component.\n",
    "# Below code was adapted from the lessons\n",
    "\n",
    "def scree_plot(pca, comp=None, show_labels=False):\n",
    "    '''\n",
    "    Creates a scree plot associated with the principal components \n",
    "    \n",
    "    INPUT: pca - the result of instantian of PCA in scikit learn\n",
    "            \n",
    "    OUTPUT:\n",
    "            None\n",
    "    '''\n",
    "#     num_components=len(pca.explained_variance_ratio_)\n",
    "#     ind = np.arange(num_components)\n",
    "#     vals = pca.explained_variance_ratio_\n",
    "    \n",
    "    if comp: \n",
    "        num_components=comp\n",
    "        ind = np.arange(num_components)\n",
    "        vals = pca.explained_variance_ratio_[:num_components]\n",
    "    else:\n",
    "        num_components=len(pca.explained_variance_ratio_)\n",
    "        ind = np.arange(num_components)\n",
    "        vals = pca.explained_variance_ratio_       \n",
    "        \n",
    "    plt.figure(figsize=(18, 8))\n",
    "    ax = plt.subplot(111)\n",
    "    cumvals = np.cumsum(vals)\n",
    "    ax.bar(ind, vals)\n",
    "    ax.plot(ind, cumvals)\n",
    "    \n",
    "    if show_labels:\n",
    "        for i in range(num_components):\n",
    "            ax.annotate(r\"%s%%\" % ((str(vals[i]*100)[:4])), (ind[i]+0.05, vals[i])\n",
    "                        ,va=\"bottom\"\n",
    "                        ,ha=\"center\"\n",
    "                        ,fontsize=12\n",
    "                        ,rotation=90\n",
    "                       )\n",
    "    \n",
    "    ax.xaxis.set_tick_params(width=0)\n",
    "    ax.yaxis.set_tick_params(width=2, length=12)\n",
    " \n",
    "    ax.set_xlabel(\"Principal Component\")\n",
    "    ax.set_ylabel(\"Variance Explained (%)\")\n",
    "    plt.title('Explained Variance Per Principal Component')\n"
   ]
  },
  {
   "cell_type": "code",
   "execution_count": 64,
   "metadata": {},
   "outputs": [
    {
     "data": {
      "image/png": "[encoded data removed]",
      "text/plain": [
       "<matplotlib.figure.Figure at 0x7f015b760f60>"
      ]
     },
     "metadata": {},
     "output_type": "display_data"
    }
   ],
   "source": [
    "scree_plot(pca, show_labels=False)"
   ]
  },
  {
   "cell_type": "code",
   "execution_count": 65,
   "metadata": {},
   "outputs": [
    {
     "data": {
      "image/png": "[encoded data removed]",
      "text/plain": [
       "<matplotlib.figure.Figure at 0x7f015b669d30>"
      ]
     },
     "metadata": {},
     "output_type": "display_data"
    }
   ],
   "source": [
    "scree_plot(pca, comp=70, show_labels=True)"
   ]
  },
  {
   "cell_type": "code",
   "execution_count": 66,
   "metadata": {},
   "outputs": [],
   "source": [
    "## Keep only those components that explained at least 0.5% of the variability on the original data\n",
    "var_threshold = 0.005\n",
    "num_comps = max(np.where(pca.explained_variance_ratio_ >= var_threshold)[0]) + 1"
   ]
  },
  {
   "cell_type": "code",
   "execution_count": 67,
   "metadata": {},
   "outputs": [
    {
     "name": "stdout",
     "output_type": "stream",
     "text": [
      "The first 59 components explain 65.01% of the total variability on the original data.\n"
     ]
    }
   ],
   "source": [
    "# What is the total variability explained by those components?\n",
    "var_explained_per = pca.explained_variance_ratio_[:num_comps-1].sum()\n",
    "print('The first {} components explain {:.2%} of the total variability on the original data.' .format(num_comps, var_explained_per))"
   ]
  },
  {
   "cell_type": "code",
   "execution_count": 68,
   "metadata": {},
   "outputs": [],
   "source": [
    "# Re-apply PCA to the data while selecting for number of components to retain.\n",
    "pca = PCA(n_components=num_comps)\n",
    "azdias_pca = pca.fit_transform(azdias_scaled_data)"
   ]
  },
  {
   "cell_type": "code",
   "execution_count": 69,
   "metadata": {},
   "outputs": [
    {
     "data": {
      "text/plain": [
       "(59, 209)"
      ]
     },
     "execution_count": 69,
     "metadata": {},
     "output_type": "execute_result"
    }
   ],
   "source": [
    "# Quick check on the new pca\n",
    "pca.components_.shape"
   ]
  },
  {
   "cell_type": "code",
   "execution_count": 70,
   "metadata": {},
   "outputs": [
    {
     "name": "stdout",
     "output_type": "stream",
     "text": [
      "64.90% of the total variability explained.\n"
     ]
    }
   ],
   "source": [
    "print('{:.2%} of the total variability explained.' .format(pca.explained_variance_ratio_.sum()))"
   ]
  },
  {
   "cell_type": "markdown",
   "metadata": {},
   "source": [
    "### Discussion 2.2: Perform Dimensionality Reduction\n",
    "\n",
    "(Double-click this cell and replace this text with your own text, reporting your findings and decisions regarding dimensionality reduction. How many principal components / transformed features are you retaining for the next step of the analysis?)\n",
    "\n",
    "If we look at the scree plot we can identify a threshold after which the variability explained by each component is too small to justify keeping it. From the initial scree plot where all components were plotted, it seems that approximately after the 150th component the percentage of the cummulative variability explained is increasing at a very slow rate. This would suggest that it is not worthy to keep any more than 150 components. However, we should also notice that we still have a very long tail of components explaining a rather small percentage of the variability (less than 1%) so I would think that many of those components would not contribute that much to our clustering analysis. Having said this, I decided to choose a threshold of 0.5% on the variablilty explained by each component. This means that any component that explain or holds less than 0.5% of the original data variability will be discarded.\n",
    "\n",
    "Based on the above approach, I decided to keep the first 59 components which explain a total of ~65% of the variability on the orginal data."
   ]
  },
  {
   "cell_type": "markdown",
   "metadata": {},
   "source": [
    "### Step 2.3: Interpret Principal Components\n",
    "\n",
    "Now that we have our transformed principal components, it's a nice idea to check out the weight of each variable on the first few components to see if they can be interpreted in some fashion.\n",
    "\n",
    "As a reminder, each principal component is a unit vector that points in the direction of highest variance (after accounting for the variance captured by earlier principal components). The further a weight is from zero, the more the principal component is in the direction of the corresponding feature. If two features have large weights of the same sign (both positive or both negative), then increases in one tend expect to be associated with increases in the other. To contrast, features with different signs can be expected to show a negative correlation: increases in one variable should result in a decrease in the other.\n",
    "\n",
    "- To investigate the features, you should map each weight to their corresponding feature name, then sort the features according to weight. The most interesting features for each principal component, then, will be those at the beginning and end of the sorted list. Use the data dictionary document to help you understand these most prominent features, their relationships, and what a positive or negative value on the principal component might indicate.\n",
    "- You should investigate and interpret feature associations from the first three principal components in this substep. To help facilitate this, you should write a function that you can call at any time to print the sorted list of feature weights, for the *i*-th principal component. This might come in handy in the next step of the project, when you interpret the tendencies of the discovered clusters."
   ]
  },
  {
   "cell_type": "code",
   "execution_count": 71,
   "metadata": {},
   "outputs": [],
   "source": [
    "# HINT: Try defining a function here or in a new cell that you can reuse in the\n",
    "# other cells.\n",
    "\n",
    "# Again code below was adapted from the lessons\n",
    "\n",
    "def pca_results(data, pca, k_comp, top_k_weights):\n",
    "    '''\n",
    "    Create a DataFrame of the PCA results\n",
    "    Includes dimension feature weights and explained variance\n",
    "    Visualizes the PCA results\n",
    "    '''\n",
    "    \n",
    "    if k_comp <= len(pca.components_) and k_comp > 0 and top_k_weights <= azdias_pca.shape[1]:\n",
    "       \n",
    "        # PCA components\n",
    "        components = pd.DataFrame(np.round(pca.components_, 4), columns = data.keys()).iloc[k_comp-1]\n",
    "        components.sort_values(ascending=False, inplace=True)\n",
    "        \n",
    "        # Return a concatenated DataFrame with top_k_weights\n",
    "        df = pd.concat([components.head(top_k_weights),components.tail(top_k_weights)])\n",
    "        \n",
    "        # PCA explained variance\n",
    "        #ratios = pca.explained_variance_ratio_.reshape(len(pca.components_), 1)[k_comp-1]\n",
    "        #variance_ratios = pd.DataFrame(np.round(ratios, 4), columns = ['Explained Variance'])\n",
    "        #variance_ratios.index = dimensions\n",
    "\n",
    "        # Create a bar plot visualization\n",
    "        fig, ax = plt.subplots(figsize = (14,8))\n",
    "\n",
    "        # Plot the feature weights as a function of the components\n",
    "        df.plot(ax = ax, kind = 'bar');\n",
    "        ax.set_ylabel(\"Feature Weights\")\n",
    "        ax.set_xticklabels(df.index, rotation=90)    \n",
    "        plt.title('Component {} explains {:.2%} of the original data variability'.format(k_comp, pca.explained_variance_ratio_[k_comp-1]))\n",
    "        \n",
    "        return df\n",
    "    \n",
    "    else:\n",
    "        print('That is not the right input, please review the number of components and features.')"
   ]
  },
  {
   "cell_type": "code",
   "execution_count": 72,
   "metadata": {},
   "outputs": [
    {
     "data": {
      "text/plain": [
       "LP_STATUS_GROB_1.0        0.1879\n",
       "HH_EINKOMMEN_SCORE        0.1772\n",
       "CAMEO_INTL_2015_WEALTH    0.1772\n",
       "PLZ8_ANTG3                0.1767\n",
       "PLZ8_ANTG4                0.1725\n",
       "ORTSGR_KLS9               0.1537\n",
       "EWDICHTE                  0.1515\n",
       "FINANZ_HAUSBAUER          0.1453\n",
       "LP_STATUS_FEIN_1.0        0.1253\n",
       "KBA05_ANTG4               0.1236\n",
       "WOHNLAGE_7.0             -0.1115\n",
       "PLZ8_BAUMAX_FAMILY       -0.1167\n",
       "INNENSTADT               -0.1256\n",
       "PLZ8_GBZ                 -0.1301\n",
       "KONSUMNAEHE              -0.1341\n",
       "KBA05_GBZ                -0.1750\n",
       "PLZ8_ANTG1               -0.1775\n",
       "FINANZ_MINIMALIST        -0.1809\n",
       "KBA05_ANTG1              -0.1838\n",
       "MOBI_REGIO               -0.1971\n",
       "Name: 0, dtype: float64"
      ]
     },
     "execution_count": 72,
     "metadata": {},
     "output_type": "execute_result"
    },
    {
     "data": {
      "image/png": "[encoded data removed]",
      "text/plain": [
       "<matplotlib.figure.Figure at 0x7f015b6510b8>"
      ]
     },
     "metadata": {},
     "output_type": "display_data"
    }
   ],
   "source": [
    "# Map weights for the first principal component to corresponding feature names\n",
    "# and then print the linked values, sorted by weight.\n",
    "pca_results(azdias_clean_data, pca, k_comp=1, top_k_weights=10)"
   ]
  },
  {
   "cell_type": "code",
   "execution_count": 73,
   "metadata": {},
   "outputs": [
    {
     "data": {
      "text/plain": [
       "ALTERSKATEGORIE_GROB         0.2281\n",
       "FINANZ_VORSORGER             0.2176\n",
       "ZABEOTYP_3                   0.1945\n",
       "SEMIO_ERL                    0.1716\n",
       "SEMIO_LUST                   0.1594\n",
       "RETOURTYP_BK_S               0.1538\n",
       "LP_LEBENSPHASE_GROB_2.0      0.1462\n",
       "W_KEIT_KIND_HH               0.1250\n",
       "CJT_GESAMTTYP_2.0            0.1054\n",
       "FINANZTYP_5                  0.0976\n",
       "SEMIO_KULT                  -0.1557\n",
       "ONLINE_AFFINITAET           -0.1575\n",
       "SEMIO_RAT                   -0.1673\n",
       "SEMIO_PFLICHT               -0.2009\n",
       "FINANZ_ANLEGER              -0.2024\n",
       "SEMIO_TRADV                 -0.2031\n",
       "SEMIO_REL                   -0.2070\n",
       "FINANZ_UNAUFFAELLIGER       -0.2124\n",
       "FINANZ_SPARER               -0.2263\n",
       "PRAEGENDE_JUGENDJAHRE_GEN   -0.2353\n",
       "Name: 1, dtype: float64"
      ]
     },
     "execution_count": 73,
     "metadata": {},
     "output_type": "execute_result"
    },
    {
     "data": {
      "image/png": "[encoded data removed]",
      "text/plain": [
       "<matplotlib.figure.Figure at 0x7f009c901748>"
      ]
     },
     "metadata": {},
     "output_type": "display_data"
    }
   ],
   "source": [
    "# Map weights for the second principal component to corresponding feature names\n",
    "# and then print the linked values, sorted by weight.\n",
    "pca_results(azdias_clean_data, pca, k_comp=2, top_k_weights=10)\n"
   ]
  },
  {
   "cell_type": "code",
   "execution_count": 74,
   "metadata": {},
   "outputs": [
    {
     "data": {
      "text/plain": [
       "SEMIO_VERT                   0.3110\n",
       "SEMIO_FAM                    0.2571\n",
       "SEMIO_SOZ                    0.2525\n",
       "SEMIO_KULT                   0.2492\n",
       "FINANZTYP_5                  0.1327\n",
       "FINANZ_MINIMALIST            0.1300\n",
       "ZABEOTYP_1                   0.1233\n",
       "SHOPPER_TYP_0.0              0.1196\n",
       "SEMIO_REL                    0.1173\n",
       "GREEN_AVANTGARDE             0.0936\n",
       "PRAEGENDE_JUGENDJAHRE_MOV   -0.0913\n",
       "SHOPPER_TYP_2.0             -0.0915\n",
       "FINANZTYP_1                 -0.0961\n",
       "SEMIO_RAT                   -0.1426\n",
       "FINANZ_ANLEGER              -0.1487\n",
       "SEMIO_ERL                   -0.2093\n",
       "SEMIO_KRIT                  -0.2619\n",
       "SEMIO_DOM                   -0.2713\n",
       "SEMIO_KAEM                  -0.3047\n",
       "ANREDE_KZ                   -0.3359\n",
       "Name: 2, dtype: float64"
      ]
     },
     "execution_count": 74,
     "metadata": {},
     "output_type": "execute_result"
    },
    {
     "data": {
      "image/png": "[encoded data removed]",
      "text/plain": [
       "<matplotlib.figure.Figure at 0x7f01580701d0>"
      ]
     },
     "metadata": {},
     "output_type": "display_data"
    }
   ],
   "source": [
    "# Map weights for the third principal component to corresponding feature names\n",
    "# and then print the linked values, sorted by weight.\n",
    "pca_results(azdias_clean_data, pca, k_comp=3, top_k_weights=10)"
   ]
  },
  {
   "cell_type": "markdown",
   "metadata": {},
   "source": [
    "### Discussion 2.3: Interpret Principal Components\n",
    "\n",
    "(Double-click this cell and replace this text with your own text, reporting your observations from detailed investigation of the first few principal components generated. Can we interpret positive and negative values from them in a meaningful way?)\n",
    "\n",
    "__Component 1__  \n",
    "The first component seems to be more influenced by features related to characteristics of the area where people live in. Higher values of this component would represent areas with a larger population, lower income, poor neighborhoods, high percentage of people per household, close to the cities and point of sales, possibly more residential areas(1), and with a high movement pattern. Also, it seems that people living in these areas don't own a property and they are quite concerned about getting low interest rates. \n",
    "\n",
    "In summary, this component seems to represent __areas with poor/low-income, high-density population, close to city centre and close to shops.__\n",
    "\n",
    "(1) The assumption under this component being more related to residential areas is because of a negative correlation with the feature PLZ8_GBZ - Number of buildings within the PLZ8 region. The higher the number of building the lower the value of this component becomes. This seems to contradict to some extent how other features weight on this component where the component increases for populated densed areas close to cities. So, I am not sure how to interpret the weight on this specific feature.\n",
    "\n",
    "__Component 2__  \n",
    "The second component is mainly influenced by personal features. Typically, this component would represent older people who like to be prepared. They are money savers although they may look into investment options. They are traditional people when it comes to buying and they don't seem to shop online and they are not crazy shoppers. They are rather lower or average income earners and mainly single. They are traditional, diutiful, religious and rational people.\n",
    "\n",
    "In summary, this component seems to represent __traiditional and conservative people.__  \n",
    "\n",
    "__Component 3__  \n",
    "The third component is also influenced mainly by personal features. This component would represent male people with a rather combative attitude, dominant and critical minded. They are not religious, dreamful, family oriented, nor socially minded. They do care about investments. Generally speaking, they don't care that much about shopping although they do care about ecology and the environment. They are considered as avantgarde.\n",
    "\n",
    "In summary, this component seems to represent __male, combative and dominant people.__  \n"
   ]
  },
  {
   "cell_type": "markdown",
   "metadata": {},
   "source": [
    "## Step 3: Clustering\n",
    "\n",
    "### Step 3.1: Apply Clustering to General Population\n",
    "\n",
    "You've assessed and cleaned the demographics data, then scaled and transformed them. Now, it's time to see how the data clusters in the principal components space. In this substep, you will apply k-means clustering to the dataset and use the average within-cluster distances from each point to their assigned cluster's centroid to decide on a number of clusters to keep.\n",
    "\n",
    "- Use sklearn's [KMeans](http://scikit-learn.org/stable/modules/generated/sklearn.cluster.KMeans.html#sklearn.cluster.KMeans) class to perform k-means clustering on the PCA-transformed data.\n",
    "- Then, compute the average difference from each point to its assigned cluster's center. **Hint**: The KMeans object's `.score()` method might be useful here, but note that in sklearn, scores tend to be defined so that larger is better. Try applying it to a small, toy dataset, or use an internet search to help your understanding.\n",
    "- Perform the above two steps for a number of different cluster counts. You can then see how the average distance decreases with an increasing number of clusters. However, each additional cluster provides a smaller net benefit. Use this fact to select a final number of clusters in which to group the data. **Warning**: because of the large size of the dataset, it can take a long time for the algorithm to resolve. The more clusters to fit, the longer the algorithm will take. You should test for cluster counts through at least 10 clusters to get the full picture, but you shouldn't need to test for a number of clusters above about 30.\n",
    "- Once you've selected a final number of clusters to use, re-fit a KMeans instance to perform the clustering operation. Make sure that you also obtain the cluster assignments for the general demographics data, since you'll be using them in the final Step 3.3."
   ]
  },
  {
   "cell_type": "code",
   "execution_count": 75,
   "metadata": {},
   "outputs": [],
   "source": [
    "# Over a number of different cluster counts...\n",
    "    # run k-means clustering on the data and...\n",
    "    # compute the average within-cluster distances.\n",
    "\n",
    "# Below code is adapted from the lessons\n",
    "\n",
    "def get_kmeans_scores(data, centers):\n",
    "    scores = []\n",
    "    \n",
    "    for center in centers:\n",
    "        #instantiate kmeans\n",
    "        kmeans = MiniBatchKMeans(n_clusters=center)\n",
    "\n",
    "        # Then fit the model to your data using the fit method\n",
    "        model = kmeans.fit(data)\n",
    "\n",
    "        # Obtain a score related to the model fit\n",
    "        score = np.abs(model.score(data))        \n",
    "        scores.append(score)\n",
    "    \n",
    "    return centers, scores"
   ]
  },
  {
   "cell_type": "code",
   "execution_count": 76,
   "metadata": {},
   "outputs": [],
   "source": [
    "centers = list(range(1,36))\n",
    "centers, scores = get_kmeans_scores(azdias_pca, centers)"
   ]
  },
  {
   "cell_type": "code",
   "execution_count": 77,
   "metadata": {},
   "outputs": [
    {
     "data": {
      "image/png": "[encoded data removed]",
      "text/plain": [
       "<matplotlib.figure.Figure at 0x7f0158023f28>"
      ]
     },
     "metadata": {},
     "output_type": "display_data"
    }
   ],
   "source": [
    "# Investigate the change in within-cluster distance across number of clusters.\n",
    "# HINT: Use matplotlib's plot function to visualize this relationship.\n",
    "plt.figure(figsize=(12, 8))\n",
    "plt.plot(centers, scores, linestyle='--', marker='o', color='b')\n",
    "plt.xlabel('Number of clusters')\n",
    "plt.ylabel('Average distance from centroid')\n",
    "plt.title('Change in within-cluster distance across number of clusters')\n",
    "plt.show()"
   ]
  },
  {
   "cell_type": "code",
   "execution_count": 78,
   "metadata": {},
   "outputs": [],
   "source": [
    "# Re-fit the k-means model with the selected number of clusters and obtain\n",
    "# cluster predictions for the general population demographics data.\n",
    "k = 20\n",
    "kmeans = KMeans(n_clusters=k)\n",
    "azdias_kmeans = kmeans.fit_predict(azdias_pca)\n"
   ]
  },
  {
   "cell_type": "markdown",
   "metadata": {},
   "source": [
    "### Discussion 3.1: Apply Clustering to General Population\n",
    "\n",
    "(Double-click this cell and replace this text with your own text, reporting your findings and decisions regarding clustering. Into how many clusters have you decided to segment the population?)\n",
    "\n",
    "After computing the average within-cluster distances, it seems that they start to level-off somewhere between 20-25 clusters.\n",
    "I decided to continue the analysis with a total of 20 clusters."
   ]
  },
  {
   "cell_type": "markdown",
   "metadata": {},
   "source": [
    "### Step 3.2: Apply All Steps to the Customer Data\n",
    "\n",
    "Now that you have clusters and cluster centers for the general population, it's time to see how the customer data maps on to those clusters. Take care to not confuse this for re-fitting all of the models to the customer data. Instead, you're going to use the fits from the general population to clean, transform, and cluster the customer data. In the last step of the project, you will interpret how the general population fits apply to the customer data.\n",
    "\n",
    "- Don't forget when loading in the customers data, that it is semicolon (`;`) delimited.\n",
    "- Apply the same feature wrangling, selection, and engineering steps to the customer demographics using the `clean_data()` function you created earlier. (You can assume that the customer demographics data has similar meaning behind missing data patterns as the general demographics data.)\n",
    "- Use the sklearn objects from the general demographics data, and apply their transformations to the customers data. That is, you should not be using a `.fit()` or `.fit_transform()` method to re-fit the old objects, nor should you be creating new sklearn objects! Carry the data through the feature scaling, PCA, and clustering steps, obtaining cluster assignments for all of the data in the customer demographics data."
   ]
  },
  {
   "cell_type": "code",
   "execution_count": 79,
   "metadata": {},
   "outputs": [],
   "source": [
    "# Load in the customer demographics data.\n",
    "customers = pd.read_csv('Udacity_CUSTOMERS_Subset.csv',sep=';')"
   ]
  },
  {
   "cell_type": "code",
   "execution_count": 80,
   "metadata": {},
   "outputs": [
    {
     "data": {
      "text/plain": [
       "(191652, 85)"
      ]
     },
     "execution_count": 80,
     "metadata": {},
     "output_type": "execute_result"
    }
   ],
   "source": [
    "customers.shape"
   ]
  },
  {
   "cell_type": "code",
   "execution_count": 81,
   "metadata": {},
   "outputs": [],
   "source": [
    "# Apply preprocessing, feature transformation, and clustering from the general\n",
    "# demographics onto the customer data, obtaining cluster predictions for the\n",
    "# customer demographics data.\n",
    "\n",
    "# Apply the clean_data function\n",
    "customers_clean_data = clean_data(customers)"
   ]
  },
  {
   "cell_type": "code",
   "execution_count": 82,
   "metadata": {},
   "outputs": [
    {
     "data": {
      "text/plain": [
       "(141590, 209)"
      ]
     },
     "execution_count": 82,
     "metadata": {},
     "output_type": "execute_result"
    }
   ],
   "source": [
    "# Quick check to ensure that we have the same shape as the demographics dataset\n",
    "customers_clean_data.shape"
   ]
  },
  {
   "cell_type": "code",
   "execution_count": 160,
   "metadata": {},
   "outputs": [
    {
     "data": {
      "text/plain": [
       "Index(['GEBAEUDETYP_5.0'], dtype='object')"
      ]
     },
     "execution_count": 160,
     "metadata": {},
     "output_type": "execute_result"
    }
   ],
   "source": [
    "# Which columns are on the azdias subset which are missing on the customers dataset?\n",
    "#azdias_clean_data.columns.difference(customers_clean_data.columns)"
   ]
  },
  {
   "cell_type": "code",
   "execution_count": 163,
   "metadata": {},
   "outputs": [
    {
     "data": {
      "text/plain": [
       "Index([], dtype='object')"
      ]
     },
     "execution_count": 163,
     "metadata": {},
     "output_type": "execute_result"
    }
   ],
   "source": [
    "# Which columns are on the customers subset which are missing on the azdias dataset?\n",
    "#customers_clean_data.columns.difference(azdias_clean_data.columns)"
   ]
  },
  {
   "cell_type": "code",
   "execution_count": 162,
   "metadata": {},
   "outputs": [
    {
     "data": {
      "text/plain": [
       "Series([], Name: GEBAEUDETYP, dtype: float64)"
      ]
     },
     "execution_count": 162,
     "metadata": {},
     "output_type": "execute_result"
    }
   ],
   "source": [
    "# Note: It seems that on the customer dataset there were no records under the GEBAEUDETYP feature with a value of 5.\n",
    "# This means that the get_dummies function will return one less feature on the customers_clean_data set\n",
    "# when compared to the demographics data azdias_clean_data.\n",
    "\n",
    "# Quick check to confirm above\n",
    "#customers['GEBAEUDETYP'].loc[customers['GEBAEUDETYP']==5]"
   ]
  },
  {
   "cell_type": "markdown",
   "metadata": {},
   "source": [
    "__Discussion Point:__  \n",
    "The above discrepancy on the number of features, was solved by removing the dummy feature 'GEBAEUDETYP_5.0' from the azdias_clean_data dataframe. If I had not take care of this difference on the features on each dataset then I wouldn't have been able to apply the same scaler and PCA fitted models I derived from the azdias dataset into the customers dataset. So, I decided to go back, ammend the data_clean() function so that the dummy feature 'GEBAEUDETYP_5.0' is dropped from the azdias_clean_data dataframe and re-run all steps to get correct fitted models for the azdias dataset that I can apply to the customers dataset as well."
   ]
  },
  {
   "cell_type": "code",
   "execution_count": 83,
   "metadata": {},
   "outputs": [],
   "source": [
    "# Remove NaN with Imputer()\n",
    "customers_clean_data = pd.DataFrame(imputer.transform(customers_clean_data), columns = customers_clean_data.columns)"
   ]
  },
  {
   "cell_type": "code",
   "execution_count": 84,
   "metadata": {},
   "outputs": [
    {
     "data": {
      "text/plain": [
       "False"
      ]
     },
     "execution_count": 84,
     "metadata": {},
     "output_type": "execute_result"
    }
   ],
   "source": [
    "# Quick check to confirm there are no missing values\n",
    "customers_clean_data.isnull().values.any()"
   ]
  },
  {
   "cell_type": "code",
   "execution_count": 85,
   "metadata": {},
   "outputs": [],
   "source": [
    "# Scale the customer data\n",
    "customers_scaled_data = scaler.transform(customers_clean_data)"
   ]
  },
  {
   "cell_type": "code",
   "execution_count": 86,
   "metadata": {},
   "outputs": [],
   "source": [
    "# Apply PCS on the customer data\n",
    "customers_pca = pca.transform(customers_scaled_data)"
   ]
  },
  {
   "cell_type": "code",
   "execution_count": 87,
   "metadata": {},
   "outputs": [],
   "source": [
    "# Identify clusters on the customer data\n",
    "customers_kmeans = kmeans.predict(customers_pca)"
   ]
  },
  {
   "cell_type": "markdown",
   "metadata": {},
   "source": [
    "### Step 3.3: Compare Customer Data to Demographics Data\n",
    "\n",
    "At this point, you have clustered data based on demographics of the general population of Germany, and seen how the customer data for a mail-order sales company maps onto those demographic clusters. In this final substep, you will compare the two cluster distributions to see where the strongest customer base for the company is.\n",
    "\n",
    "Consider the proportion of persons in each cluster for the general population, and the proportions for the customers. If we think the company's customer base to be universal, then the cluster assignment proportions should be fairly similar between the two. If there are only particular segments of the population that are interested in the company's products, then we should see a mismatch from one to the other. If there is a higher proportion of persons in a cluster for the customer data compared to the general population (e.g. 5% of persons are assigned to a cluster for the general population, but 15% of the customer data is closest to that cluster's centroid) then that suggests the people in that cluster to be a target audience for the company. On the other hand, the proportion of the data in a cluster being larger in the general population than the customer data (e.g. only 2% of customers closest to a population centroid that captures 6% of the data) suggests that group of persons to be outside of the target demographics.\n",
    "\n",
    "Take a look at the following points in this step:\n",
    "\n",
    "- Compute the proportion of data points in each cluster for the general population and the customer data. Visualizations will be useful here: both for the individual dataset proportions, but also to visualize the ratios in cluster representation between groups. Seaborn's [`countplot()`](https://seaborn.pydata.org/generated/seaborn.countplot.html) or [`barplot()`](https://seaborn.pydata.org/generated/seaborn.barplot.html) function could be handy.\n",
    "  - Recall the analysis you performed in step 1.1.3 of the project, where you separated out certain data points from the dataset if they had more than a specified threshold of missing values. If you found that this group was qualitatively different from the main bulk of the data, you should treat this as an additional data cluster in this analysis. Make sure that you account for the number of data points in this subset, for both the general population and customer datasets, when making your computations!\n",
    "- Which cluster or clusters are overrepresented in the customer dataset compared to the general population? Select at least one such cluster and infer what kind of people might be represented by that cluster. Use the principal component interpretations from step 2.3 or look at additional components to help you make this inference. Alternatively, you can use the `.inverse_transform()` method of the PCA and StandardScaler objects to transform centroids back to the original data space and interpret the retrieved values directly.\n",
    "- Perform a similar investigation for the underrepresented clusters. Which cluster or clusters are underrepresented in the customer dataset compared to the general population, and what kinds of people are typified by these clusters?"
   ]
  },
  {
   "cell_type": "code",
   "execution_count": 88,
   "metadata": {},
   "outputs": [
    {
     "name": "stdout",
     "output_type": "stream",
     "text": [
      "73.88% of the rows on the customers data have a few or no missing values.\n"
     ]
    }
   ],
   "source": [
    "# Porportion of rows with few or no missing values per row (<20 NaN per row)\n",
    "customers_lowna_row_per = len(customers_clean_data)/len(customers)\n",
    "print('{:.2%}' .format(customers_lowna_row_per) + ' of the rows on the customers data have a few or no missing values.')"
   ]
  },
  {
   "cell_type": "code",
   "execution_count": 90,
   "metadata": {},
   "outputs": [],
   "source": [
    "# Compare the proportion of data in each cluster for the customer data to the\n",
    "# proportion of data in each cluster for the general population.\n",
    "azdias_clusters = pd.Series(azdias_kmeans)\n",
    "azdias_clusters_count = azdias_clusters.value_counts().sort_index()\n",
    "azdias_clusters_count = pd.Series(azdias_clusters_count)"
   ]
  },
  {
   "cell_type": "code",
   "execution_count": 91,
   "metadata": {},
   "outputs": [
    {
     "data": {
      "text/plain": [
       "0     36165\n",
       "1     38743\n",
       "2     54357\n",
       "3     36063\n",
       "4     35319\n",
       "5     62128\n",
       "6     45200\n",
       "7     33413\n",
       "8     33898\n",
       "9     27148\n",
       "10     8177\n",
       "11    45059\n",
       "12    43509\n",
       "13    51456\n",
       "14    37429\n",
       "15    28891\n",
       "16    27371\n",
       "17    35232\n",
       "18    63754\n",
       "19    53765\n",
       "dtype: int64"
      ]
     },
     "execution_count": 91,
     "metadata": {},
     "output_type": "execute_result"
    }
   ],
   "source": [
    "azdias_clusters_count"
   ]
  },
  {
   "cell_type": "code",
   "execution_count": 92,
   "metadata": {},
   "outputs": [],
   "source": [
    "customers_clusters = pd.Series(customers_kmeans)\n",
    "customers_clusters_count = customers_clusters.value_counts().sort_index()\n",
    "customers_clusters_count = pd.Series(customers_clusters_count)"
   ]
  },
  {
   "cell_type": "code",
   "execution_count": 93,
   "metadata": {},
   "outputs": [
    {
     "data": {
      "text/plain": [
       "0     14959\n",
       "1      4481\n",
       "2      7337\n",
       "3       694\n",
       "4      3957\n",
       "5       754\n",
       "6      7439\n",
       "7     25891\n",
       "8      7290\n",
       "9       906\n",
       "10     9222\n",
       "11    17977\n",
       "12      648\n",
       "13      662\n",
       "14    13283\n",
       "15     2537\n",
       "16     1470\n",
       "17     6532\n",
       "18     9839\n",
       "19     5712\n",
       "dtype: int64"
      ]
     },
     "execution_count": 93,
     "metadata": {},
     "output_type": "execute_result"
    }
   ],
   "source": [
    "customers_clusters_count"
   ]
  },
  {
   "cell_type": "code",
   "execution_count": 94,
   "metadata": {},
   "outputs": [
    {
     "data": {
      "text/html": [
       "<div>\n",
       "<style scoped>\n",
       "    .dataframe tbody tr th:only-of-type {\n",
       "        vertical-align: middle;\n",
       "    }\n",
       "\n",
       "    .dataframe tbody tr th {\n",
       "        vertical-align: top;\n",
       "    }\n",
       "\n",
       "    .dataframe thead th {\n",
       "        text-align: right;\n",
       "    }\n",
       "</style>\n",
       "<table border=\"1\" class=\"dataframe\">\n",
       "  <thead>\n",
       "    <tr style=\"text-align: right;\">\n",
       "      <th></th>\n",
       "      <th>ClusterID</th>\n",
       "      <th>AzdiasCount</th>\n",
       "      <th>CustomersCount</th>\n",
       "    </tr>\n",
       "  </thead>\n",
       "  <tbody>\n",
       "    <tr>\n",
       "      <th>0</th>\n",
       "      <td>0</td>\n",
       "      <td>36165</td>\n",
       "      <td>14959</td>\n",
       "    </tr>\n",
       "    <tr>\n",
       "      <th>1</th>\n",
       "      <td>1</td>\n",
       "      <td>38743</td>\n",
       "      <td>4481</td>\n",
       "    </tr>\n",
       "    <tr>\n",
       "      <th>2</th>\n",
       "      <td>2</td>\n",
       "      <td>54357</td>\n",
       "      <td>7337</td>\n",
       "    </tr>\n",
       "    <tr>\n",
       "      <th>3</th>\n",
       "      <td>3</td>\n",
       "      <td>36063</td>\n",
       "      <td>694</td>\n",
       "    </tr>\n",
       "    <tr>\n",
       "      <th>4</th>\n",
       "      <td>4</td>\n",
       "      <td>35319</td>\n",
       "      <td>3957</td>\n",
       "    </tr>\n",
       "    <tr>\n",
       "      <th>5</th>\n",
       "      <td>5</td>\n",
       "      <td>62128</td>\n",
       "      <td>754</td>\n",
       "    </tr>\n",
       "    <tr>\n",
       "      <th>6</th>\n",
       "      <td>6</td>\n",
       "      <td>45200</td>\n",
       "      <td>7439</td>\n",
       "    </tr>\n",
       "    <tr>\n",
       "      <th>7</th>\n",
       "      <td>7</td>\n",
       "      <td>33413</td>\n",
       "      <td>25891</td>\n",
       "    </tr>\n",
       "    <tr>\n",
       "      <th>8</th>\n",
       "      <td>8</td>\n",
       "      <td>33898</td>\n",
       "      <td>7290</td>\n",
       "    </tr>\n",
       "    <tr>\n",
       "      <th>9</th>\n",
       "      <td>9</td>\n",
       "      <td>27148</td>\n",
       "      <td>906</td>\n",
       "    </tr>\n",
       "    <tr>\n",
       "      <th>10</th>\n",
       "      <td>10</td>\n",
       "      <td>8177</td>\n",
       "      <td>9222</td>\n",
       "    </tr>\n",
       "    <tr>\n",
       "      <th>11</th>\n",
       "      <td>11</td>\n",
       "      <td>45059</td>\n",
       "      <td>17977</td>\n",
       "    </tr>\n",
       "    <tr>\n",
       "      <th>12</th>\n",
       "      <td>12</td>\n",
       "      <td>43509</td>\n",
       "      <td>648</td>\n",
       "    </tr>\n",
       "    <tr>\n",
       "      <th>13</th>\n",
       "      <td>13</td>\n",
       "      <td>51456</td>\n",
       "      <td>662</td>\n",
       "    </tr>\n",
       "    <tr>\n",
       "      <th>14</th>\n",
       "      <td>14</td>\n",
       "      <td>37429</td>\n",
       "      <td>13283</td>\n",
       "    </tr>\n",
       "    <tr>\n",
       "      <th>15</th>\n",
       "      <td>15</td>\n",
       "      <td>28891</td>\n",
       "      <td>2537</td>\n",
       "    </tr>\n",
       "    <tr>\n",
       "      <th>16</th>\n",
       "      <td>16</td>\n",
       "      <td>27371</td>\n",
       "      <td>1470</td>\n",
       "    </tr>\n",
       "    <tr>\n",
       "      <th>17</th>\n",
       "      <td>17</td>\n",
       "      <td>35232</td>\n",
       "      <td>6532</td>\n",
       "    </tr>\n",
       "    <tr>\n",
       "      <th>18</th>\n",
       "      <td>18</td>\n",
       "      <td>63754</td>\n",
       "      <td>9839</td>\n",
       "    </tr>\n",
       "    <tr>\n",
       "      <th>19</th>\n",
       "      <td>19</td>\n",
       "      <td>53765</td>\n",
       "      <td>5712</td>\n",
       "    </tr>\n",
       "  </tbody>\n",
       "</table>\n",
       "</div>"
      ],
      "text/plain": [
       "    ClusterID  AzdiasCount  CustomersCount\n",
       "0           0        36165           14959\n",
       "1           1        38743            4481\n",
       "2           2        54357            7337\n",
       "3           3        36063             694\n",
       "4           4        35319            3957\n",
       "5           5        62128             754\n",
       "6           6        45200            7439\n",
       "7           7        33413           25891\n",
       "8           8        33898            7290\n",
       "9           9        27148             906\n",
       "10         10         8177            9222\n",
       "11         11        45059           17977\n",
       "12         12        43509             648\n",
       "13         13        51456             662\n",
       "14         14        37429           13283\n",
       "15         15        28891            2537\n",
       "16         16        27371            1470\n",
       "17         17        35232            6532\n",
       "18         18        63754            9839\n",
       "19         19        53765            5712"
      ]
     },
     "execution_count": 94,
     "metadata": {},
     "output_type": "execute_result"
    }
   ],
   "source": [
    "clusters = pd.concat([azdias_clusters_count, customers_clusters_count], axis=1).reset_index()\n",
    "clusters.columns = ['ClusterID', 'AzdiasCount', 'CustomersCount']\n",
    "clusters"
   ]
  },
  {
   "cell_type": "code",
   "execution_count": 95,
   "metadata": {},
   "outputs": [
    {
     "data": {
      "text/html": [
       "<div>\n",
       "<style scoped>\n",
       "    .dataframe tbody tr th:only-of-type {\n",
       "        vertical-align: middle;\n",
       "    }\n",
       "\n",
       "    .dataframe tbody tr th {\n",
       "        vertical-align: top;\n",
       "    }\n",
       "\n",
       "    .dataframe thead th {\n",
       "        text-align: right;\n",
       "    }\n",
       "</style>\n",
       "<table border=\"1\" class=\"dataframe\">\n",
       "  <thead>\n",
       "    <tr style=\"text-align: right;\">\n",
       "      <th></th>\n",
       "      <th>ClusterID</th>\n",
       "      <th>AzdiasCount</th>\n",
       "      <th>CustomersCount</th>\n",
       "      <th>AzdiasPercent</th>\n",
       "      <th>CustomersPercent</th>\n",
       "      <th>PercentDiff</th>\n",
       "    </tr>\n",
       "  </thead>\n",
       "  <tbody>\n",
       "    <tr>\n",
       "      <th>5</th>\n",
       "      <td>5</td>\n",
       "      <td>62128</td>\n",
       "      <td>754</td>\n",
       "      <td>0.077945</td>\n",
       "      <td>0.005325</td>\n",
       "      <td>-0.072620</td>\n",
       "    </tr>\n",
       "    <tr>\n",
       "      <th>13</th>\n",
       "      <td>13</td>\n",
       "      <td>51456</td>\n",
       "      <td>662</td>\n",
       "      <td>0.064556</td>\n",
       "      <td>0.004675</td>\n",
       "      <td>-0.059880</td>\n",
       "    </tr>\n",
       "    <tr>\n",
       "      <th>12</th>\n",
       "      <td>12</td>\n",
       "      <td>43509</td>\n",
       "      <td>648</td>\n",
       "      <td>0.054586</td>\n",
       "      <td>0.004577</td>\n",
       "      <td>-0.050009</td>\n",
       "    </tr>\n",
       "    <tr>\n",
       "      <th>3</th>\n",
       "      <td>3</td>\n",
       "      <td>36063</td>\n",
       "      <td>694</td>\n",
       "      <td>0.045244</td>\n",
       "      <td>0.004901</td>\n",
       "      <td>-0.040343</td>\n",
       "    </tr>\n",
       "    <tr>\n",
       "      <th>9</th>\n",
       "      <td>9</td>\n",
       "      <td>27148</td>\n",
       "      <td>906</td>\n",
       "      <td>0.034059</td>\n",
       "      <td>0.006399</td>\n",
       "      <td>-0.027661</td>\n",
       "    </tr>\n",
       "    <tr>\n",
       "      <th>19</th>\n",
       "      <td>19</td>\n",
       "      <td>53765</td>\n",
       "      <td>5712</td>\n",
       "      <td>0.067453</td>\n",
       "      <td>0.040342</td>\n",
       "      <td>-0.027111</td>\n",
       "    </tr>\n",
       "    <tr>\n",
       "      <th>16</th>\n",
       "      <td>16</td>\n",
       "      <td>27371</td>\n",
       "      <td>1470</td>\n",
       "      <td>0.034339</td>\n",
       "      <td>0.010382</td>\n",
       "      <td>-0.023957</td>\n",
       "    </tr>\n",
       "    <tr>\n",
       "      <th>15</th>\n",
       "      <td>15</td>\n",
       "      <td>28891</td>\n",
       "      <td>2537</td>\n",
       "      <td>0.036246</td>\n",
       "      <td>0.017918</td>\n",
       "      <td>-0.018328</td>\n",
       "    </tr>\n",
       "    <tr>\n",
       "      <th>1</th>\n",
       "      <td>1</td>\n",
       "      <td>38743</td>\n",
       "      <td>4481</td>\n",
       "      <td>0.048606</td>\n",
       "      <td>0.031648</td>\n",
       "      <td>-0.016959</td>\n",
       "    </tr>\n",
       "    <tr>\n",
       "      <th>2</th>\n",
       "      <td>2</td>\n",
       "      <td>54357</td>\n",
       "      <td>7337</td>\n",
       "      <td>0.068195</td>\n",
       "      <td>0.051819</td>\n",
       "      <td>-0.016377</td>\n",
       "    </tr>\n",
       "    <tr>\n",
       "      <th>4</th>\n",
       "      <td>4</td>\n",
       "      <td>35319</td>\n",
       "      <td>3957</td>\n",
       "      <td>0.044311</td>\n",
       "      <td>0.027947</td>\n",
       "      <td>-0.016364</td>\n",
       "    </tr>\n",
       "    <tr>\n",
       "      <th>18</th>\n",
       "      <td>18</td>\n",
       "      <td>63754</td>\n",
       "      <td>9839</td>\n",
       "      <td>0.079985</td>\n",
       "      <td>0.069489</td>\n",
       "      <td>-0.010495</td>\n",
       "    </tr>\n",
       "    <tr>\n",
       "      <th>6</th>\n",
       "      <td>6</td>\n",
       "      <td>45200</td>\n",
       "      <td>7439</td>\n",
       "      <td>0.056707</td>\n",
       "      <td>0.052539</td>\n",
       "      <td>-0.004168</td>\n",
       "    </tr>\n",
       "    <tr>\n",
       "      <th>17</th>\n",
       "      <td>17</td>\n",
       "      <td>35232</td>\n",
       "      <td>6532</td>\n",
       "      <td>0.044202</td>\n",
       "      <td>0.046133</td>\n",
       "      <td>0.001932</td>\n",
       "    </tr>\n",
       "    <tr>\n",
       "      <th>8</th>\n",
       "      <td>8</td>\n",
       "      <td>33898</td>\n",
       "      <td>7290</td>\n",
       "      <td>0.042528</td>\n",
       "      <td>0.051487</td>\n",
       "      <td>0.008959</td>\n",
       "    </tr>\n",
       "    <tr>\n",
       "      <th>14</th>\n",
       "      <td>14</td>\n",
       "      <td>37429</td>\n",
       "      <td>13283</td>\n",
       "      <td>0.046958</td>\n",
       "      <td>0.093813</td>\n",
       "      <td>0.046855</td>\n",
       "    </tr>\n",
       "    <tr>\n",
       "      <th>10</th>\n",
       "      <td>10</td>\n",
       "      <td>8177</td>\n",
       "      <td>9222</td>\n",
       "      <td>0.010259</td>\n",
       "      <td>0.065132</td>\n",
       "      <td>0.054873</td>\n",
       "    </tr>\n",
       "    <tr>\n",
       "      <th>0</th>\n",
       "      <td>0</td>\n",
       "      <td>36165</td>\n",
       "      <td>14959</td>\n",
       "      <td>0.045372</td>\n",
       "      <td>0.105650</td>\n",
       "      <td>0.060278</td>\n",
       "    </tr>\n",
       "    <tr>\n",
       "      <th>11</th>\n",
       "      <td>11</td>\n",
       "      <td>45059</td>\n",
       "      <td>17977</td>\n",
       "      <td>0.056530</td>\n",
       "      <td>0.126965</td>\n",
       "      <td>0.070435</td>\n",
       "    </tr>\n",
       "    <tr>\n",
       "      <th>7</th>\n",
       "      <td>7</td>\n",
       "      <td>33413</td>\n",
       "      <td>25891</td>\n",
       "      <td>0.041919</td>\n",
       "      <td>0.182859</td>\n",
       "      <td>0.140940</td>\n",
       "    </tr>\n",
       "  </tbody>\n",
       "</table>\n",
       "</div>"
      ],
      "text/plain": [
       "    ClusterID  AzdiasCount  CustomersCount  AzdiasPercent  CustomersPercent  \\\n",
       "5           5        62128             754       0.077945          0.005325   \n",
       "13         13        51456             662       0.064556          0.004675   \n",
       "12         12        43509             648       0.054586          0.004577   \n",
       "3           3        36063             694       0.045244          0.004901   \n",
       "9           9        27148             906       0.034059          0.006399   \n",
       "19         19        53765            5712       0.067453          0.040342   \n",
       "16         16        27371            1470       0.034339          0.010382   \n",
       "15         15        28891            2537       0.036246          0.017918   \n",
       "1           1        38743            4481       0.048606          0.031648   \n",
       "2           2        54357            7337       0.068195          0.051819   \n",
       "4           4        35319            3957       0.044311          0.027947   \n",
       "18         18        63754            9839       0.079985          0.069489   \n",
       "6           6        45200            7439       0.056707          0.052539   \n",
       "17         17        35232            6532       0.044202          0.046133   \n",
       "8           8        33898            7290       0.042528          0.051487   \n",
       "14         14        37429           13283       0.046958          0.093813   \n",
       "10         10         8177            9222       0.010259          0.065132   \n",
       "0           0        36165           14959       0.045372          0.105650   \n",
       "11         11        45059           17977       0.056530          0.126965   \n",
       "7           7        33413           25891       0.041919          0.182859   \n",
       "\n",
       "    PercentDiff  \n",
       "5     -0.072620  \n",
       "13    -0.059880  \n",
       "12    -0.050009  \n",
       "3     -0.040343  \n",
       "9     -0.027661  \n",
       "19    -0.027111  \n",
       "16    -0.023957  \n",
       "15    -0.018328  \n",
       "1     -0.016959  \n",
       "2     -0.016377  \n",
       "4     -0.016364  \n",
       "18    -0.010495  \n",
       "6     -0.004168  \n",
       "17     0.001932  \n",
       "8      0.008959  \n",
       "14     0.046855  \n",
       "10     0.054873  \n",
       "0      0.060278  \n",
       "11     0.070435  \n",
       "7      0.140940  "
      ]
     },
     "execution_count": 95,
     "metadata": {},
     "output_type": "execute_result"
    }
   ],
   "source": [
    "clusters['AzdiasPercent'] = clusters['AzdiasCount'] / clusters['AzdiasCount'].sum()\n",
    "clusters['CustomersPercent'] = clusters['CustomersCount'] / clusters['CustomersCount'].sum()\n",
    "clusters['PercentDiff'] = clusters['CustomersPercent'] - clusters['AzdiasPercent']\n",
    "clusters.sort_values('PercentDiff')"
   ]
  },
  {
   "cell_type": "code",
   "execution_count": 96,
   "metadata": {},
   "outputs": [
    {
     "data": {
      "image/png": "[encoded data removed]",
      "text/plain": [
       "<matplotlib.figure.Figure at 0x7f0158130a58>"
      ]
     },
     "metadata": {},
     "output_type": "display_data"
    }
   ],
   "source": [
    "clusters.plot(x='ClusterID', y=['AzdiasPercent', 'CustomersPercent'], kind='bar', figsize=(18, 8))\n",
    "plt.title('Azdias vs. Customers Clusters Comparison')\n",
    "plt.ylabel('Proportion of people in each cluster')\n",
    "plt.show()"
   ]
  },
  {
   "cell_type": "code",
   "execution_count": 97,
   "metadata": {},
   "outputs": [],
   "source": [
    "# Get the original features values from the centroids of each clusters\n",
    "clusters_specs = pd.DataFrame(scaler.inverse_transform(pca.inverse_transform(kmeans.cluster_centers_)), columns=azdias_clean_data.columns)"
   ]
  },
  {
   "cell_type": "code",
   "execution_count": 98,
   "metadata": {},
   "outputs": [
    {
     "data": {
      "text/plain": [
       "(20, 209)"
      ]
     },
     "execution_count": 98,
     "metadata": {},
     "output_type": "execute_result"
    }
   ],
   "source": [
    "# Quick check to ensure I got the correct shape\n",
    "clusters_specs.shape"
   ]
  },
  {
   "cell_type": "code",
   "execution_count": 99,
   "metadata": {},
   "outputs": [],
   "source": [
    "# Filter out only personal features to facilitate identifying what kind of people are part of a cluster\n",
    "\n",
    "relevant_personal_features = [\n",
    "'ALTERSKATEGORIE_GROB'\n",
    ", 'ANREDE_KS'\n",
    ", 'CJT_GESAMTTYP_1.0'\n",
    ", 'CJT_GESAMTTYP_2.0'\n",
    ", 'CJT_GESAMTTYP_3.0'\n",
    ", 'CJT_GESAMTTYP_4.0'\n",
    ", 'CJT_GESAMTTYP_5.0'\n",
    ", 'CJT_GESAMTTYP_6.0'\n",
    ", 'FINANZ_MINIMALIST'\n",
    ", 'FINANZ_SPARER'\n",
    ", 'FINANZ_VORSORGER'\n",
    ", 'FINANZ_ANLEGER'\n",
    ", 'FINANZ_UNAUFFAELLIGER'\n",
    ", 'FINANZ_HAUSBAUER'\n",
    ", 'GFK_URLAUBERTYP_1.0'\n",
    ", 'GFK_URLAUBERTYP_2.0'\n",
    ", 'GFK_URLAUBERTYP_3.0'\n",
    ", 'GFK_URLAUBERTYP_4.0'\n",
    ", 'GFK_URLAUBERTYP_5.0'\n",
    ", 'GFK_URLAUBERTYP_6.0'\n",
    ", 'GFK_URLAUBERTYP_7.0'\n",
    ", 'GFK_URLAUBERTYP_8.0'\n",
    ", 'GFK_URLAUBERTYP_9.0'\n",
    ", 'GFK_URLAUBERTYP_10.0'\n",
    ", 'GFK_URLAUBERTYP_11.0'\n",
    ", 'GFK_URLAUBERTYP_12.0'\n",
    ", 'GREEN_AVANTGARDE'\n",
    ", 'LP_LEBENSPHASE_GROB_1.0'\n",
    ", 'LP_LEBENSPHASE_GROB_2.0'\n",
    ", 'LP_LEBENSPHASE_GROB_3.0'\n",
    ", 'LP_LEBENSPHASE_GROB_4.0'\n",
    ", 'LP_LEBENSPHASE_GROB_5.0'\n",
    ", 'LP_LEBENSPHASE_GROB_6.0'\n",
    ", 'LP_LEBENSPHASE_GROB_7.0'\n",
    ", 'LP_LEBENSPHASE_GROB_8.0'\n",
    ", 'LP_LEBENSPHASE_GROB_9.0'\n",
    ", 'LP_LEBENSPHASE_GROB_10.0'\n",
    ", 'LP_LEBENSPHASE_GROB_11.0'\n",
    ", 'LP_LEBENSPHASE_GROB_12.0'\n",
    ", 'LP_FAMILIE_GROB_1.0'\n",
    ", 'LP_FAMILIE_GROB_2.0'\n",
    ", 'LP_FAMILIE_GROB_3.0'\n",
    ", 'LP_FAMILIE_GROB_4.0'\n",
    ", 'LP_FAMILIE_GROB_5.0'\n",
    ", 'PRAEGENDE_JUGENDJAHRE_GEN'\n",
    ", 'PRAEGENDE_JUGENDJAHRE_MOV'\n",
    ", 'RETOURTYP_BK_S'\n",
    ", 'SEMIO_SOZ'\n",
    ", 'SEMIO_FAM'\n",
    ", 'SEMIO_REL'\n",
    ", 'SEMIO_MAT'\n",
    ", 'SEMIO_VERT'\n",
    ", 'SEMIO_LUST'\n",
    ", 'SEMIO_ERL'\n",
    ", 'SEMIO_KULT'\n",
    ", 'SEMIO_RAT'\n",
    ", 'SEMIO_KRIT'\n",
    ", 'SEMIO_DOM'\n",
    ", 'SEMIO_KAEM'\n",
    ", 'SEMIO_PFLICHT'\n",
    ", 'SEMIO_TRADV'\n",
    ", 'SHOPPER_TYP_0.0'\n",
    ", 'SHOPPER_TYP_1.0'\n",
    ", 'SHOPPER_TYP_2.0'\n",
    ", 'SHOPPER_TYP_3.0'\n",
    ", 'ZABEOTYP_1'\n",
    ", 'ZABEOTYP_2'\n",
    ", 'ZABEOTYP_3'\n",
    ", 'ZABEOTYP_4'\n",
    ", 'ZABEOTYP_5'\n",
    ", 'ZABEOTYP_6' \n",
    "]\n",
    "\n",
    "clusters_specs_reduced = clusters_specs.T\n",
    "clusters_specs_reduced['attribute'] = clusters_specs_reduced.index\n",
    "clusters_specs_reduced = clusters_specs_reduced[clusters_specs_reduced['attribute'].isin(relevant_personal_features)]"
   ]
  },
  {
   "cell_type": "code",
   "execution_count": 100,
   "metadata": {},
   "outputs": [
    {
     "data": {
      "text/plain": [
       "(70, 21)"
      ]
     },
     "execution_count": 100,
     "metadata": {},
     "output_type": "execute_result"
    }
   ],
   "source": [
    "clusters_specs_reduced.shape"
   ]
  },
  {
   "cell_type": "code",
   "execution_count": 101,
   "metadata": {},
   "outputs": [
    {
     "data": {
      "text/plain": [
       "ALTERSKATEGORIE_GROB          3.474589\n",
       "FINANZ_MINIMALIST             4.647992\n",
       "FINANZ_SPARER                 1.424247\n",
       "FINANZ_VORSORGER              4.510579\n",
       "FINANZ_ANLEGER                1.732151\n",
       "FINANZ_UNAUFFAELLIGER         1.809068\n",
       "FINANZ_HAUSBAUER              2.249000\n",
       "GREEN_AVANTGARDE              0.990329\n",
       "RETOURTYP_BK_S                3.652874\n",
       "SEMIO_SOZ                     3.999788\n",
       "SEMIO_FAM                     3.383163\n",
       "SEMIO_REL                     2.902237\n",
       "SEMIO_MAT                     3.153124\n",
       "SEMIO_VERT                    4.808717\n",
       "SEMIO_LUST                    5.473681\n",
       "SEMIO_ERL                     5.374121\n",
       "SEMIO_KULT                    3.524613\n",
       "SEMIO_RAT                     3.104867\n",
       "SEMIO_KRIT                    3.986379\n",
       "SEMIO_DOM                     4.637825\n",
       "SEMIO_KAEM                    4.273630\n",
       "SEMIO_PFLICHT                 3.095426\n",
       "SEMIO_TRADV                   2.911006\n",
       "SHOPPER_TYP_0.0               0.137645\n",
       "SHOPPER_TYP_1.0               0.283162\n",
       "SHOPPER_TYP_2.0               0.256015\n",
       "SHOPPER_TYP_3.0               0.318542\n",
       "LP_FAMILIE_GROB_1.0           0.007585\n",
       "LP_FAMILIE_GROB_2.0          -0.009312\n",
       "LP_FAMILIE_GROB_3.0           0.000527\n",
       "LP_FAMILIE_GROB_4.0           0.000160\n",
       "LP_FAMILIE_GROB_5.0           0.979471\n",
       "GFK_URLAUBERTYP_1.0           0.119412\n",
       "GFK_URLAUBERTYP_2.0          -0.016873\n",
       "GFK_URLAUBERTYP_3.0           0.118883\n",
       "GFK_URLAUBERTYP_4.0           0.013824\n",
       "GFK_URLAUBERTYP_5.0           0.148470\n",
       "GFK_URLAUBERTYP_6.0           0.050002\n",
       "GFK_URLAUBERTYP_7.0           0.064701\n",
       "GFK_URLAUBERTYP_8.0           0.212617\n",
       "GFK_URLAUBERTYP_9.0           0.016936\n",
       "GFK_URLAUBERTYP_10.0          0.166208\n",
       "GFK_URLAUBERTYP_11.0          0.079782\n",
       "GFK_URLAUBERTYP_12.0          0.018016\n",
       "CJT_GESAMTTYP_1.0             0.082757\n",
       "CJT_GESAMTTYP_2.0             0.243289\n",
       "CJT_GESAMTTYP_3.0             0.241560\n",
       "CJT_GESAMTTYP_4.0             0.201218\n",
       "CJT_GESAMTTYP_5.0             0.150970\n",
       "CJT_GESAMTTYP_6.0             0.072184\n",
       "ZABEOTYP_1                    0.465352\n",
       "ZABEOTYP_2                    0.117350\n",
       "ZABEOTYP_3                    0.353663\n",
       "ZABEOTYP_4                    0.096698\n",
       "ZABEOTYP_5                   -0.010136\n",
       "ZABEOTYP_6                   -0.022927\n",
       "PRAEGENDE_JUGENDJAHRE_GEN    63.718677\n",
       "PRAEGENDE_JUGENDJAHRE_MOV     0.010907\n",
       "LP_LEBENSPHASE_GROB_1.0      -0.012988\n",
       "LP_LEBENSPHASE_GROB_2.0      -0.022601\n",
       "LP_LEBENSPHASE_GROB_3.0       0.050370\n",
       "LP_LEBENSPHASE_GROB_4.0      -0.058290\n",
       "LP_LEBENSPHASE_GROB_5.0       0.049476\n",
       "LP_LEBENSPHASE_GROB_6.0       0.000527\n",
       "LP_LEBENSPHASE_GROB_7.0      -0.028102\n",
       "LP_LEBENSPHASE_GROB_8.0       0.028262\n",
       "LP_LEBENSPHASE_GROB_9.0       0.081980\n",
       "LP_LEBENSPHASE_GROB_10.0      0.098985\n",
       "LP_LEBENSPHASE_GROB_11.0      0.092604\n",
       "LP_LEBENSPHASE_GROB_12.0      0.698114\n",
       "Name: 7, dtype: float64"
      ]
     },
     "execution_count": 101,
     "metadata": {},
     "output_type": "execute_result"
    }
   ],
   "source": [
    "# What kinds of people are part of a cluster that is overrepresented in the\n",
    "# customer data compared to the general population?\n",
    "\n",
    "# I will extract original feature values for a selected group of personal features for cluster 7\n",
    "pd.set_option('display.max_rows', 100)\n",
    "clusters_specs_reduced[7]"
   ]
  },
  {
   "cell_type": "code",
   "execution_count": 102,
   "metadata": {},
   "outputs": [
    {
     "data": {
      "text/plain": [
       "ALTERSKATEGORIE_GROB          1.793146\n",
       "FINANZ_MINIMALIST             1.073745\n",
       "FINANZ_SPARER                 4.513744\n",
       "FINANZ_VORSORGER              2.235678\n",
       "FINANZ_ANLEGER                4.455080\n",
       "FINANZ_UNAUFFAELLIGER         3.953618\n",
       "FINANZ_HAUSBAUER              4.254766\n",
       "GREEN_AVANTGARDE              0.034243\n",
       "RETOURTYP_BK_S                2.481596\n",
       "SEMIO_SOZ                     3.140701\n",
       "SEMIO_FAM                     3.877907\n",
       "SEMIO_REL                     5.360292\n",
       "SEMIO_MAT                     4.708273\n",
       "SEMIO_VERT                    2.265279\n",
       "SEMIO_LUST                    3.120952\n",
       "SEMIO_ERL                     4.384296\n",
       "SEMIO_KULT                    4.058866\n",
       "SEMIO_RAT                     5.961379\n",
       "SEMIO_KRIT                    5.448674\n",
       "SEMIO_DOM                     6.073908\n",
       "SEMIO_KAEM                    6.004211\n",
       "SEMIO_PFLICHT                 6.076417\n",
       "SEMIO_TRADV                   5.321521\n",
       "SHOPPER_TYP_0.0               0.085546\n",
       "SHOPPER_TYP_1.0               0.198215\n",
       "SHOPPER_TYP_2.0               0.441168\n",
       "SHOPPER_TYP_3.0               0.130433\n",
       "LP_FAMILIE_GROB_1.0           0.707386\n",
       "LP_FAMILIE_GROB_2.0           0.065438\n",
       "LP_FAMILIE_GROB_3.0           0.000666\n",
       "LP_FAMILIE_GROB_4.0           0.024425\n",
       "LP_FAMILIE_GROB_5.0           0.165048\n",
       "GFK_URLAUBERTYP_1.0           0.065369\n",
       "GFK_URLAUBERTYP_2.0           0.025380\n",
       "GFK_URLAUBERTYP_3.0           0.051038\n",
       "GFK_URLAUBERTYP_4.0           0.033605\n",
       "GFK_URLAUBERTYP_5.0           0.033606\n",
       "GFK_URLAUBERTYP_6.0           0.017054\n",
       "GFK_URLAUBERTYP_7.0           0.020155\n",
       "GFK_URLAUBERTYP_8.0           0.111428\n",
       "GFK_URLAUBERTYP_9.0           0.086239\n",
       "GFK_URLAUBERTYP_10.0          0.104290\n",
       "GFK_URLAUBERTYP_11.0          0.118634\n",
       "GFK_URLAUBERTYP_12.0          0.329377\n",
       "CJT_GESAMTTYP_1.0             0.046904\n",
       "CJT_GESAMTTYP_2.0             0.044555\n",
       "CJT_GESAMTTYP_3.0             0.248313\n",
       "CJT_GESAMTTYP_4.0             0.215341\n",
       "CJT_GESAMTTYP_5.0             0.248814\n",
       "CJT_GESAMTTYP_6.0             0.192251\n",
       "ZABEOTYP_1                   -0.016063\n",
       "ZABEOTYP_2                    0.010416\n",
       "ZABEOTYP_3                    0.120521\n",
       "ZABEOTYP_4                    0.466687\n",
       "ZABEOTYP_5                    0.345646\n",
       "ZABEOTYP_6                    0.072794\n",
       "PRAEGENDE_JUGENDJAHRE_GEN    85.977344\n",
       "PRAEGENDE_JUGENDJAHRE_MOV     0.943583\n",
       "LP_LEBENSPHASE_GROB_1.0       0.555694\n",
       "LP_LEBENSPHASE_GROB_2.0       0.035608\n",
       "LP_LEBENSPHASE_GROB_3.0       0.046591\n",
       "LP_LEBENSPHASE_GROB_4.0       0.073512\n",
       "LP_LEBENSPHASE_GROB_5.0      -0.008536\n",
       "LP_LEBENSPHASE_GROB_6.0       0.000666\n",
       "LP_LEBENSPHASE_GROB_7.0       0.026241\n",
       "LP_LEBENSPHASE_GROB_8.0      -0.001816\n",
       "LP_LEBENSPHASE_GROB_9.0       0.123160\n",
       "LP_LEBENSPHASE_GROB_10.0      0.007407\n",
       "LP_LEBENSPHASE_GROB_11.0      0.003958\n",
       "LP_LEBENSPHASE_GROB_12.0      0.015698\n",
       "Name: 5, dtype: float64"
      ]
     },
     "execution_count": 102,
     "metadata": {},
     "output_type": "execute_result"
    }
   ],
   "source": [
    "# What kinds of people are part of a cluster that is underrepresented in the\n",
    "# customer data compared to the general population?\n",
    "\n",
    "# I will extract original feature values for a selected group of personal features for cluster 5\n",
    "clusters_specs_reduced[5]"
   ]
  },
  {
   "cell_type": "markdown",
   "metadata": {},
   "source": [
    "### Discussion 3.3: Compare Customer Data to Demographics Data\n",
    "\n",
    "(Double-click this cell and replace this text with your own text, reporting findings and conclusions from the clustering analysis. Can we describe segments of the population that are relatively popular with the mail-order company, or relatively unpopular with the company?)\n",
    "\n",
    "Firstly, I will make a comment about the subsets of data with a high proportion of missing values per row (>=20 NaN per row). If I compare the proportion of rows with high NaN values on both datasets, we have ~10.6% on the azdias dataset vs ~26% on the customer dataset. So, if we would consider those observations to be part of a new cluster as suggested on this project then we could argue that this cluster is overrepresented in the customer dataset. Actually, this would be a highly overrepresented cluster. However, there is not too much I can infere about this cluster unless I determine its centroid.\n",
    "\n",
    "By looking at the remaining of the data, then based on the plot which compares the proportion of people under each cluster between the general population and the customers dataset it seems that clusters 7, 11, 0, 10 and 14 are overrepresenting customers so the people in these clusters could be a target audience for the company. On the other hand, it seems that clusters 5, 13, 12 and 3 are underrepresented and suggests that these groups of persons are outside of the target demographics.\n",
    "\n",
    "If we look in more detail at cluster 7 then this cluster could represent rather older, rational, traditional and dutiful people who are part of the avantgarde movement and are also familiy minded. They seem to be high income earners and mony savers interested in investing. They are also home owners who don't care that much about low financial interest - probably because they don't have a mortgage to pay :).  \n",
    "\n",
    "If we look in more detail at cluster 5 then this cluster could represent rather middle age or younger people who are mainly single and belong to the mainstream movement. They are rather low or average income earners who are price-driven and they tend to be demanding heavy-returnes. The would typically don't own a home and they would be paying attention on low financial interest.\n",
    "\n",
    "Before making any final recommendation on what features or clusters could be identified with potential customers, ideally I would review the overrepresented clusters (7, 11, 0, 10 and 14) in more detail to see similarities and differences on all the features values of its centroids."
   ]
  },
  {
   "cell_type": "code",
   "execution_count": null,
   "metadata": {},
   "outputs": [],
   "source": []
  }
 ],
 "metadata": {
  "kernelspec": {
   "display_name": "Python 3",
   "language": "python",
   "name": "python3"
  },
  "language_info": {
   "codemirror_mode": {
    "name": "ipython",
    "version": 3
   },
   "file_extension": ".py",
   "mimetype": "text/x-python",
   "name": "python",
   "nbconvert_exporter": "python",
   "pygments_lexer": "ipython3",
   "version": "3.7.6"
  }
 },
 "nbformat": 4,
 "nbformat_minor": 2
}
